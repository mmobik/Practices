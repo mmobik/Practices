{
  "nbformat": 4,
  "nbformat_minor": 0,
  "metadata": {
    "colab": {
      "provenance": [],
      "include_colab_link": true
    },
    "kernelspec": {
      "name": "python3",
      "display_name": "Python 3"
    },
    "language_info": {
      "name": "python"
    }
  },
  "cells": [
    {
      "cell_type": "markdown",
      "metadata": {
        "id": "view-in-github",
        "colab_type": "text"
      },
      "source": [
        "<a href=\"https://colab.research.google.com/github/mmobik/Practices/blob/main/%22%D0%9F%D1%80%D0%B0%D0%BA%D1%82%D0%B8%D0%BA%D0%B0_0_6_0_%22.ipynb\" target=\"_parent\"><img src=\"https://colab.research.google.com/assets/colab-badge.svg\" alt=\"Open In Colab\"/></a>"
      ]
    },
    {
      "cell_type": "markdown",
      "source": [
        "\n",
        "\n",
        "---\n",
        "\n"
      ],
      "metadata": {
        "id": "tKNG_RzWxG6g"
      }
    },
    {
      "cell_type": "markdown",
      "source": [
        "# **Дисклеймер**\n",
        "\n",
        "В данной практике будет введен дополнительный критерий: чистота и читаемость кода, а также соблюдение правил описанных в начале практики"
      ],
      "metadata": {
        "id": "cFcrKfclKWh0"
      }
    },
    {
      "cell_type": "markdown",
      "source": [
        "\n",
        "\n",
        "---\n",
        "\n"
      ],
      "metadata": {
        "id": "0SnE87X1xDlV"
      }
    },
    {
      "cell_type": "markdown",
      "source": [
        "# Задание 1\n",
        "\n",
        "**Задача:**\n",
        "\n",
        "Напишите функцию очищающий список от дубликтов\n",
        "\n",
        "\n",
        "*Запрещено:*\n",
        "\n",
        "*   Использовать set() или готовые функции очищающие список от дубликатов\n",
        "\n",
        "Вввод:\n",
        "\n",
        "```\n",
        "apple banana apple 1 3 4 4 5\n",
        "```\n",
        "\n",
        "\n",
        "Вывод:\n",
        "\n",
        "```\n",
        "apple banana 1 3 4 5\n",
        "```\n",
        "\n"
      ],
      "metadata": {
        "id": "VxawR9NubT_F"
      }
    },
    {
      "cell_type": "code",
      "source": [
        "def clear_list():  # Функция очищающая список от дубликатов\n",
        "    my_list = input(\"Введите список: \").split()  # Создаём список\n",
        "    new_my_list = \"\"\n",
        "\n",
        "    for word in my_list:\n",
        "        if word not in new_my_list:  # Проверяем наличие дубликатов\n",
        "            new_my_list += f\"{word} \"  # Добавляем слова в новый список\n",
        "\n",
        "    print(new_my_list)\n",
        "\n",
        "\n",
        "clear_list()\n"
      ],
      "metadata": {
        "id": "ml5gnbPXbeju",
        "colab": {
          "base_uri": "https://localhost:8080/"
        },
        "outputId": "5b4e68e9-1565-4765-fc55-31728f335d89"
      },
      "execution_count": null,
      "outputs": [
        {
          "output_type": "stream",
          "name": "stdout",
          "text": [
            "Введите список: apple banana apple 1 3 4 4 5\n",
            "apple banana 1 3 4 5 \n"
          ]
        }
      ]
    },
    {
      "cell_type": "markdown",
      "source": [
        "# Задание 2\n",
        "\n",
        "**Задача:**\n",
        "\n",
        "Написать функцию для нахождения простых чисел в диапазоне\n",
        "\n",
        "Ввод:\n",
        "\n",
        "```\n",
        "10, 50\n",
        "```\n",
        "\n",
        "Вывод:\n",
        "\n",
        "```\n",
        "11, 13, 17, 19, 23, 29, 31, 37, 41, 43, 47\n",
        "```"
      ],
      "metadata": {
        "id": "y05x0eD0cVCC"
      }
    },
    {
      "cell_type": "code",
      "source": [
        "def simply_num():\n",
        "    numbers = input(\"Введите диапозон 2 чисел как показано '10, 50': \").split()  # Создаем список чисел\n",
        "    new_numbers = \"\"\n",
        "\n",
        "    for number in numbers:  # Перебор всех элементов в списке\n",
        "        for el in number:  # Перебор всех элементов в числе\n",
        "            if el != \",\":\n",
        "                new_numbers += el  # Если нет запятой добавляем элемент в строку\n",
        "        new_numbers += \" \"\n",
        "    new_numbers = new_numbers.split()  # разделяем строку чисел на список из чисел\n",
        "\n",
        "    numbers = []\n",
        "    count = 0  # Число делителей числа\n",
        "    for number in range(int(new_numbers[0]), int(new_numbers[1]) + 1):  # Перебираем числа от 1го до 2го числа\n",
        "        for el in range(1, number + 1):   # Перебираем числа внутри числа\n",
        "            if number % el == 0:\n",
        "                count += 1  # Счётчик делителей\n",
        "        if count > 2:  # Условие не простоты числа\n",
        "            count = 0\n",
        "        else:\n",
        "            numbers.append(number)\n",
        "\n",
        "    print(numbers)\n",
        "\n",
        "\n",
        "simply_num()\n"
      ],
      "metadata": {
        "id": "XSMJnLgrc6Bf"
      },
      "execution_count": null,
      "outputs": []
    },
    {
      "cell_type": "markdown",
      "source": [
        "# Задание 3\n",
        "\n",
        "Напишите функцию для объединения двух списков (список ключей и список значении) в словарь\n",
        "\n",
        "*Запрещено:*\n",
        "\n",
        "*   Использования готовых функции для объединения списков (пример: zip() )\n",
        "\n",
        "Дано:\n",
        "\n",
        "```\n",
        "keys = ['a', 'b', 'c', 'e' ]\n",
        "values = [1, 2, 3, 4]\n",
        "```\n",
        "\n",
        "Вывод:\n",
        "```\n",
        "{'a': 1, 'b': 2, 'c': 3, 'e': 4}\n",
        "```\n",
        "\n",
        "\n"
      ],
      "metadata": {
        "id": "vYM0LyxxdElN"
      }
    },
    {
      "cell_type": "code",
      "source": [
        "def together():  # Функция для объединения двух списков\n",
        "    keys = ['a', 'b', 'c', 'e']\n",
        "    values = [1, 2, 3, 4]\n",
        "    my_dict = {}\n",
        "    num = 0\n",
        "\n",
        "    for key in keys:  # Перебираем ключи\n",
        "        my_dict[key] = values[num]  # Присваеваем ключ из списка keys и значение из values по индексу\n",
        "        num += 1\n",
        "\n",
        "    print(my_dict)\n",
        "\n",
        "\n",
        "together()\n"
      ],
      "metadata": {
        "id": "CRvhHTjCdvjS",
        "colab": {
          "base_uri": "https://localhost:8080/"
        },
        "outputId": "e64bd628-df15-4406-e8d0-2901f0770ceb"
      },
      "execution_count": null,
      "outputs": [
        {
          "output_type": "stream",
          "name": "stdout",
          "text": [
            "{'a': 1, 'b': 2, 'c': 3, 'e': 4}\n"
          ]
        }
      ]
    },
    {
      "cell_type": "markdown",
      "source": [
        "# Задание 4\n",
        "\n",
        "Напишите функцию(ии) для подсчета статистических параметров:\n",
        "*   Сумму\n",
        "*   Среднее арифметическое\n",
        "*   Медиану\n",
        "*   Моду\n",
        "\n",
        "\n",
        "*Запрещено:*\n",
        "\n",
        "*   sum()\n",
        "*   sorted()\n",
        "*   и других функции предоставляющих готовое решение задания\n",
        "\n",
        "Дано:\n",
        "\n",
        "```\n",
        "numbers = [1, 2, 2, 3, 4, 5, 6, 7, 8 ,9 ,10]\n",
        "\n",
        "```\n",
        "\n",
        "Вывод:\n",
        "```\n",
        "{'mean': 5.181818181818182, 'median': 5, 'mode': 2, 'sum': 57}\n",
        "```\n"
      ],
      "metadata": {
        "id": "L_w8H8i-fQcP"
      }
    },
    {
      "cell_type": "code",
      "source": [
        "def stats():\n",
        "    numbers_dict = {1: 0, 2: 0, 3: 0, 4: 0, 5: 0, 6: 0, 7: 0, 8: 0, 9: 0, 10: 0}\n",
        "    # Словарь хранящий количество повторений\n",
        "    numbers = [1, 2, 2, 3, 4, 5, 6, 7, 8, 9, 10]\n",
        "    numbers_count = 0  # Переменная для хранения количества чисел в списке\n",
        "    sum_numbers = 0  # Переменная для хранения суммы чисел\n",
        "    n = 0\n",
        "\n",
        "    for num in numbers:\n",
        "        numbers_dict[num] += 1  # Добавляем для каждой цифры количество повторений в списке\n",
        "\n",
        "    max_count = 0  # Переменная для хранения макс количества повторений\n",
        "    mode = 0   # Переменная для хранения числа с макс количеством повторений\n",
        "    for k, v in numbers_dict.items():\n",
        "        if v > max_count:\n",
        "            max_count = v  # Ищем макс v и соответсвующий ключ\n",
        "            mode = k  # Мода равна ключу с макс v\n",
        "\n",
        "    for num in numbers:  # Перебираем список\n",
        "        sum_numbers += num  # Ищем сумму чисел\n",
        "        numbers_count += 1  # Ищем количество переменных в numbers\n",
        "\n",
        "    median_index = len(numbers) // 2  # Находим индекс медианы\n",
        "    median = numbers[median_index]\n",
        "    arithmetic_resualt = sum_numbers / numbers_count  # Находим среднее арифметическое число\n",
        "\n",
        "    statistics = {'mean': arithmetic_resualt, 'median': median, 'mode': mode, 'sum': sum_numbers}  # Создаём словарик\n",
        "    print(statistics)  # Выводим словарь для красивого вывода\n",
        "\n",
        "\n",
        "stats()\n"
      ],
      "metadata": {
        "id": "dW6jW_rjfuba",
        "colab": {
          "base_uri": "https://localhost:8080/"
        },
        "outputId": "0e95146b-7a64-4791-cbd6-5bb87ab478db"
      },
      "execution_count": null,
      "outputs": [
        {
          "output_type": "stream",
          "name": "stdout",
          "text": [
            "{'mean': 5.181818181818182, 'median': 5, 'mode': 2, 'sum': 57}\n"
          ]
        }
      ]
    },
    {
      "cell_type": "markdown",
      "source": [
        "# Задание 5\n",
        "\n",
        "На ввод поступает строка символов. Строка состоит из слов, которые отделены друг от друга пробелами. Необходимо вывести самое длинное слово и его порядковый номер.\n",
        "\n",
        "*Запрещено:*\n",
        "\n",
        "*   len()\n",
        "\n",
        "Дано:\n",
        "\n",
        "```\n",
        "Страдание и боль всегда обязательны для широкого сознания и глубокого сердца.\n",
        "\n",
        "```\n",
        "\n",
        "Вывод:\n",
        "```\n",
        "Самое длинное слово с номером 5: обязательны\n",
        "```"
      ],
      "metadata": {
        "id": "hZW0NZ7SgTcp"
      }
    },
    {
      "cell_type": "code",
      "source": [
        "line = \"Страдание и боль всегда обязательны для широкого сознания и глубокого сердца.\".split()  # Создаем список\n",
        "my_word = \"\"  # Переменная хранит наше слово\n",
        "max_str = 0  # Переменная хранит длинну максимального слова\n",
        "my_index = 0  # Переменная хранит индекс длинны максимального слова\n",
        "\n",
        "for word in line:  # Перебираем буквы в списке\n",
        "    count = 0\n",
        "\n",
        "    for el in word:  # Перебираем слова в списке\n",
        "        if el != \" \" or el != \".\":\n",
        "            count += 1  # Счётчик букв\n",
        "            if count > max_str:\n",
        "\n",
        "                max_str = count\n",
        "                my_word = word\n",
        "                my_index = line.index(my_word) + 1  # Находим индекс слова\n",
        "\n",
        "print(f\"Самое длинное слово с номером {my_index}: {my_word}\")\n"
      ],
      "metadata": {
        "id": "rC5DpHHLsDYp",
        "colab": {
          "base_uri": "https://localhost:8080/"
        },
        "outputId": "aa21d1aa-c97d-47ca-df22-a36785bccdd7"
      },
      "execution_count": null,
      "outputs": [
        {
          "output_type": "stream",
          "name": "stdout",
          "text": [
            "Самое длинное слово с номером 5: обязательны\n"
          ]
        }
      ]
    },
    {
      "cell_type": "markdown",
      "source": [
        "# Задание 6\n",
        "\n",
        "Напишите программу, для управления оценками студентов, со следующими функциями:\n",
        "\n",
        "* Добавление информации о студенте и его оценках.\n",
        "* Подсчет среднего балла студента.\n",
        "* Получение списка всех студентов с их средними баллами.\n",
        "* Поиск студента по имени и вывод его оценок и среднего балла.\n",
        "\n",
        "\n",
        "\n"
      ],
      "metadata": {
        "id": "k5BzJW5ZeaQN"
      }
    },
    {
      "cell_type": "code",
      "source": [
        "personal_base = {}  # Хранилище данных о студентах и их оценках\n",
        "\n",
        "\n",
        "def start():\n",
        "    # Оформление проги\n",
        "    print(\"Добро пожаловать в программу для управления оценками студентов!\\n\")\n",
        "    while True:\n",
        "        # Меню выбора опций\n",
        "        print(\"Функционал программы:\\n\")\n",
        "        print(\"1. Добавление информации о студенте и его оценках.\")\n",
        "        print(\"2. Подсчет среднего балла студента.\")\n",
        "        print(\"3. Получение списка всех студентов с их средними баллами.\")\n",
        "        print(\"4. Поиск студента по имени и вывод его оценок и среднего балла.\")\n",
        "        print(\"5. Выход из программы\\n\")\n",
        "\n",
        "        # Ввод выбора пользователя\n",
        "        choice = input(\"Выберите опцию: \")\n",
        "\n",
        "        # Обработка выбора пользователя\n",
        "        if choice == '1':\n",
        "            add_info()  # Добавление информации о студенте\n",
        "        elif choice == '2':\n",
        "            average_mark()  # Подсчет среднего балла конкретного студента\n",
        "        elif choice == '3':\n",
        "            average_marks()  # Получение среднего балла по предметам для всех студентов\n",
        "        elif choice == '4':\n",
        "            find_student()  # Поиск и вывод информации о студенте\n",
        "        elif choice == '5':\n",
        "            print(\"Выход из программы. Всего доброго!\")  # Завершение программы\n",
        "            break\n",
        "        else:\n",
        "            print(\"Неверный выбор, пожалуйста, попробуйте снова.\\n\")  # Обработка неверного выбора\n",
        "\n",
        "\n",
        "def add_info():  # Функция для добавления информации о студенте\n",
        "    while True:\n",
        "        request_info = input(\"Введите ФИО студента: \")\n",
        "\n",
        "        if request_info not in personal_base:\n",
        "            personal_base[request_info] = {\n",
        "                \"математика\": [],\n",
        "                \"физика\": [],\n",
        "                \"английский язык\": [],\n",
        "                \"история\": [],\n",
        "                \"программирование\": [],\n",
        "                \"физра\": []\n",
        "            }\n",
        "            print(f\"Студент {request_info} добавлен в базу данных.\\n\")\n",
        "\n",
        "        add_marks(request_info)  # Ввод оценок\n",
        "\n",
        "        request = input(\"Хотите ли вы добавить информацию о другом студенте? (да/нет): \").lower()\n",
        "        if request == \"нет\":\n",
        "            return\n",
        "        elif request == \"да\":\n",
        "            add_info()  # Повторный вызов функции для добавления нового студента\n",
        "        else:\n",
        "            return\n",
        "\n",
        "\n",
        "def add_marks(student_name):  # Функция для добавления оценок студенту по предметам\n",
        "    while True:\n",
        "        request_sub = input(\"Введите предмет: \").lower()\n",
        "        if request_sub in personal_base[student_name]:  # Ввод оценок для указанного предмета\n",
        "            marks = input(\"Введите оценки через пробел: \").split()\n",
        "            for mark in marks:\n",
        "                personal_base[student_name][request_sub].append(int(mark))  # Добавление оценок\n",
        "            print(f\"Оценки для предмета {request_sub}: {personal_base[student_name][request_sub]}\\n\")\n",
        "        else:\n",
        "            print(\"Такого предмета нет. Пожалуйста, введите корректное название предмета.\")\n",
        "\n",
        "        if input(\"Хотите ли вы добавить оценки для другого предмета? (да/нет): \").lower() != \"да\":\n",
        "            break\n",
        "\n",
        "\n",
        "def average_marks():  # Функция для подсчета среднего балла по предмету для всех студентов\n",
        "    request_sub = input(\"Введите предмет: \").lower()\n",
        "    mark_sum = 0\n",
        "    mark_count = 0\n",
        "    for k, v in personal_base.items():\n",
        "        for mark in v[request_sub]:\n",
        "            mark_sum += mark\n",
        "            mark_count += 1\n",
        "    if mark_count > 0:\n",
        "        average = mark_sum / mark_count\n",
        "        print(f\"Средний балл ученика: {k} по дисциплине {request_sub} = {average:.2f}\")\n",
        "        # Вывод среднего балла или уведомление о его отсутствии\n",
        "    else:\n",
        "        print(f\"Нет оценок для предмета {request_sub}.\")\n",
        "\n",
        "\n",
        "def average_mark():  # Функция для подсчета среднего балла студента по предмету\n",
        "    request_info = input(\"Введите ФИО студента: \")\n",
        "    if request_info in personal_base:\n",
        "        request_sub = input(\"Введите предмет: \").lower()\n",
        "        mark_count = len(personal_base[request_info][request_sub])\n",
        "        mark_sum = 0\n",
        "        for num in personal_base[request_info][request_sub]:\n",
        "            mark_sum += int(num)\n",
        "        average = mark_sum / mark_count\n",
        "        print(f\"Средний балл для предмета {request_sub} = {average:.2f}\")\n",
        "    else:\n",
        "        print(\"Студента нет в базе данных!\")\n",
        "\n",
        "\n",
        "def find_student():  # Функция для поиска студента и вывода его оценок\n",
        "    request_info = input(\"Введите ФИО студента: \")\n",
        "    if request_info in personal_base:\n",
        "        for subject, marks in personal_base[request_info].items():\n",
        "            if marks:\n",
        "                average = sum(marks) / len(marks)\n",
        "                print(f\"{subject}: оценки - {marks}, средний балл - {average:.2f}\")\n",
        "            else:\n",
        "                print(f\"{subject}: нет оценок.\\n\")\n",
        "    else:\n",
        "        print(\"Студент не найден в базе данных.\")\n",
        "\n",
        "\n",
        "start()\n"
      ],
      "metadata": {
        "id": "cvhlltVbdyoL",
        "colab": {
          "base_uri": "https://localhost:8080/"
        },
        "outputId": "82a31b9b-dd98-40db-f4f0-af3f4207c031"
      },
      "execution_count": null,
      "outputs": [
        {
          "name": "stdout",
          "output_type": "stream",
          "text": [
            "Введите ФИО студента: Ощепков Сергей Алексеевич\n",
            "Данного студента нету в базе данных!\n",
            "Добавить студента в базу данных? да\n",
            "Введите ФИО студента: Ощепков Сергей Алексеевич\n"
          ]
        }
      ]
    },
    {
      "cell_type": "markdown",
      "source": [
        "# Задание 7\n",
        "\n",
        "\n",
        "**Задача:**\n",
        "\n",
        "Создайте приложение-викторину с командной строкой, которое задает пользователям вопросы по различным темам и отслеживает их результаты.\n",
        "\n",
        "Ключевые особенности:\n",
        "\n",
        "*   Хранение данных о вопросах и ответах на них, а также баллов за каждый вопрос\n",
        "*   Реализуйте функцию для представления вопросов, принятия ответов пользователей и предоставления обратной связи о том, являются ли ответы правильными или неправильными.\n",
        "*  После завершения викторины отобразите общий балл пользователя из числа ответов на вопросы.\n",
        "*  Реализуйте функцию добавления нового вопроса\n",
        "*  Реализуйте функцию перемешивания вопросов, для отображения случайного вопроса\n"
      ],
      "metadata": {
        "id": "iQ8Z-7PYgu1_"
      }
    },
    {
      "cell_type": "code",
      "source": [
        "import random  # Импорт модуля random для генерации случайных чисел\n",
        "\n",
        "# Список вопросов\n",
        "questions = [\n",
        "    \"Какой цвет получается при смешивании красного и синего?\",\n",
        "    \"Какой планета известна как 'Красная планета'?\",\n",
        "    \"Какой элемент имеет химический символ 'O'?\",\n",
        "    \"Какой океан самый большой на Земле?\",\n",
        "    \"Какой континент является самым большим по площади?\"\n",
        "]\n",
        "\n",
        "# Словарь с вариантами ответов для каждого вопроса\n",
        "options = {\n",
        "    0: [\"a) зеленый\", \"b) фиолетовый\", \"c) желтый\", \"d) оранжевый\"],\n",
        "    1: [\"a) венера\", \"b) юпитер\", \"c) марс\", \"d) сатурн\"],\n",
        "    2: [\"a) золото\", \"b) кислород\", \"c) углерод\", \"d) азот\"],\n",
        "    3: [\"a) атлантический океан\", \"b) индийский океан\", \"c) тихий океан\", \"d) южный океан\"],\n",
        "    4: [\"a) европа\", \"b) азия\", \"c) африка\", \"d) северная америка\"]\n",
        "}\n",
        "\n",
        "# Список правильных ответов\n",
        "answers = [\"b\", \"c\", \"b\", \"c\", \"b\"]\n",
        "\n",
        "\n",
        "def mixing_questions():  # Функция для смешивания вопросов\n",
        "    global questions, answers, options  # Используем глобальные переменные\n",
        "\n",
        "    # Создаем список из индексов вопросов\n",
        "    indices = list(range(len(questions)))\n",
        "    random.shuffle(indices)  # Перемешиваем индексы с помощью функции рандом\n",
        "\n",
        "    # Создаем временные списки для хранения вопросов и ответов в новом порядке\n",
        "    shuffled_questions = []\n",
        "    shuffled_answers = []\n",
        "\n",
        "    # Добавляем вопросы и ответы в новые списки в случайном порядке\n",
        "    for i in indices:\n",
        "        shuffled_questions.append(questions[i])\n",
        "        shuffled_answers.append(answers[i])\n",
        "\n",
        "    # Обновляем глобальные переменные\n",
        "    questions = shuffled_questions\n",
        "    answers = shuffled_answers\n",
        "\n",
        "    # Создаем новый словарь с вариантами ответов в случайном порядке\n",
        "    shuffled_options = {}\n",
        "    for i in range(len(indices)):\n",
        "        shuffled_options[i] = options[indices[i]]\n",
        "    options = shuffled_options\n",
        "\n",
        "\n",
        "def add_question():\n",
        "    # Запрашиваем у пользователя новый вопрос и варианты ответов\n",
        "    request_question = input(\"Введите вопрос: \")\n",
        "    request_answer = input(\"Введите правильный ответ (a, b, c, d): \").lower()\n",
        "\n",
        "    print(\"Введите варианты ответов (a, b, c, d):\")\n",
        "    option_a = input(\"a) \")\n",
        "    option_b = input(\"b) \")\n",
        "    option_c = input(\"c) \")\n",
        "    option_d = input(\"d) \")\n",
        "\n",
        "    # Добавляем новый вопрос и варианты ответов в глобальные переменные\n",
        "    questions.append(request_question)\n",
        "    answers.append(request_answer)\n",
        "    options[len(questions) - 1] = [f\"a) {option_a}\", f\"b) {option_b}\", f\"c) {option_c}\", f\"d) {option_d}\"]\n",
        "    print(\"Ваш вопрос и варианты ответов добавлены!\\n\")\n",
        "\n",
        "\n",
        "def start():\n",
        "    while True:\n",
        "        mixing_questions()  # Смешиваем вопросы перед каждым раундом\n",
        "        score = 0\n",
        "        n = 1\n",
        "        print(\"Добро пожаловать в нашу викторину!\")\n",
        "        print(\"Давайте начнем:\\n\")\n",
        "\n",
        "        # Проходимся по всем вопросам и проверяем ответы\n",
        "        for index, question in enumerate(questions):\n",
        "            print(f\"Вопрос №{n}: {question}\")\n",
        "            for option in options[index]:\n",
        "                print(option)\n",
        "\n",
        "            request = input(\"Введите в ответе букву: \").lower()\n",
        "            correct_answer = answers[idx]\n",
        "\n",
        "            if request in [\"a\", \"b\", \"c\", \"d\"]:\n",
        "                if request == correct_answer:\n",
        "                    print(\"\\nЭто верный ответ! + 1 очко\\n\")\n",
        "                    score += 1\n",
        "                else:\n",
        "                    print(f\"\\nЭто не верный ответ! Правильный ответ: {correct_answer}\\n\")\n",
        "            else:\n",
        "                print(\"\\nПожалуйста, введите корректную букву (a, b, c или d).\\n\")\n",
        "\n",
        "            n += 1\n",
        "\n",
        "        print(f\"Ваша сумма очков составила: {score} из {len(questions)}!\")\n",
        "\n",
        "        # Проверяем, хочет ли пользователь добавить еще вопрос\n",
        "        while True:\n",
        "            request = input(\"Хотите ли вы добавить еще вопрос? (да/нет) \").lower()\n",
        "            if request == \"да\":\n",
        "                add_question()\n",
        "                break\n",
        "            elif request == \"нет\":\n",
        "                print(\"Спасибо за участие в викторине!\")\n",
        "                return\n",
        "            else:\n",
        "                print(\"Пожалуйста, введите 'да' или 'нет'.\")\n",
        "\n",
        "\n",
        "start()\n"
      ],
      "metadata": {
        "id": "DhxyYwHwh2V4"
      },
      "execution_count": null,
      "outputs": []
    }
  ]
}