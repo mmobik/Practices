{
  "nbformat": 4,
  "nbformat_minor": 0,
  "metadata": {
    "colab": {
      "provenance": [],
      "include_colab_link": true
    },
    "kernelspec": {
      "name": "python3",
      "display_name": "Python 3"
    },
    "language_info": {
      "name": "python"
    }
  },
  "cells": [
    {
      "cell_type": "markdown",
      "metadata": {
        "id": "view-in-github",
        "colab_type": "text"
      },
      "source": [
        "<a href=\"https://colab.research.google.com/github/mmobik/Practices/blob/main/%22%D0%9F%D1%80%D0%B0%D0%BA%D1%82%D0%B8%D0%BA%D0%B0_1_0_0_%22.ipynb\" target=\"_parent\"><img src=\"https://colab.research.google.com/assets/colab-badge.svg\" alt=\"Open In Colab\"/></a>"
      ]
    },
    {
      "cell_type": "markdown",
      "source": [
        "ФИО: Ощепков Сергей Алексеевич"
      ],
      "metadata": {
        "id": "fLDS5f_mCnPa"
      }
    },
    {
      "cell_type": "markdown",
      "source": [
        "# Задание (совместное с преподавателем)\n",
        "\n",
        "\n"
      ],
      "metadata": {
        "id": "-CSHUbWzCqeM"
      }
    },
    {
      "cell_type": "markdown",
      "source": [
        "Напишите систему для учёта отпусков с возможностью узнавать, сколько дней отпуска осталось у того или иного сотрудника.\n",
        "Для этого создайте класс Employee со следующими методами:\n",
        "\n",
        "- Метод consume_vacation должен отвечать за списание дней отпуска.\n",
        "\n",
        "Единственный параметр этого метода (кроме self) — количество потраченных отпускных дней (целое число).\n",
        "\n",
        "При вызове метода consume_vacation соответствующее количество дней должно вычитаться из общего числа доступных отпускных дней сотрудника.\n",
        "\n",
        "Чтобы определить число доступных отпускных дней конкретного сотрудника, в классе опишите атрибут экземпляра |, который по умолчанию будет равен значению атрибута класса vacation_days, и используйте этот атрибут в работе метода.\n",
        "\n",
        "- Метод get_vacation_details должен возвращать остаток отпускных дней сотрудника в формате: ```Остаток отпускных дней: <число>.```\n",
        "\n",
        "\n",
        "Чтобы проверить работу программы:\n",
        "1. Создайте экземпляр класса Employee.\n",
        "2. Вызовите метод consume_vacation, указав подходящее значение аргумента, например 7.\n",
        "3. Вызовите метод get_vacation_details."
      ],
      "metadata": {
        "id": "a_flBjZOCwYz"
      }
    },
    {
      "cell_type": "code",
      "source": [],
      "metadata": {
        "id": "2TyRY9a1XCOu"
      },
      "execution_count": null,
      "outputs": []
    },
    {
      "cell_type": "markdown",
      "source": [
        "# Задание 1"
      ],
      "metadata": {
        "id": "C0Z_wXo9XIr2"
      }
    },
    {
      "cell_type": "markdown",
      "source": [
        "Задание:\n",
        "\n",
        "Создайте класс с именем Rectangle который имеет:\n",
        "- Атрибуты ширины и высоты.\n",
        "- Метод расчета площади.\n",
        "- Метод расчета периметра.\n",
        "- Метод отображения размеров прямоугольника.\n",
        "\n",
        "Создайте экземпляр класса Rectangleи продемонстрируйте его функциональность."
      ],
      "metadata": {
        "id": "jQ4qqd8nEZBY"
      }
    },
    {
      "cell_type": "code",
      "source": [
        "class Rectangle:  # Создаем класс\n",
        "\n",
        "    def __init__(self, height, width):\n",
        "        # Используем конструктор для определения полей\n",
        "        self.height = height\n",
        "        self.width = width\n",
        "\n",
        "    def calculate_rectangle_area(self):  # Метод для расчета площади\n",
        "        return self.height * self.width\n",
        "\n",
        "    def calculate_rectangle_perimeter(self):  # Метод для расчета периметра\n",
        "        return self.height * 2 + self.width * 2\n",
        "\n",
        "    def output(self):  # Метод для вывода\n",
        "        area = self.calculate_rectangle_area()\n",
        "        perimeter = self.calculate_rectangle_perimeter()\n",
        "        print(f\"Площадь прямоугольника: {area}\",\n",
        "              f\"Периметр прямоугольника: {perimeter}\", sep=\"\\n\")\n",
        "\n",
        "\n",
        "rectangle = Rectangle(10, 10)  # Создаем обьект и передаем в него параметры\n",
        "rectangle.output()  # Обращаемся к методу output класса Rectangle\n"
      ],
      "metadata": {
        "id": "dG6uNPqTEAvt"
      },
      "execution_count": null,
      "outputs": []
    },
    {
      "cell_type": "markdown",
      "source": [
        "# Задание 2"
      ],
      "metadata": {
        "id": "0ct1u6lqE73j"
      }
    },
    {
      "cell_type": "markdown",
      "source": [
        "Задание: Создайте мини версию банковской системы:\n",
        "\n",
        "\n",
        "Инструкции:\n",
        "\n",
        "1. Создайте класс BankAccountсо следующими атрибутами:\n",
        "    - account_holder -  владелец счета\n",
        "    - balance - баланс счета\n",
        "\n",
        "2. Реализуйте следующие методы:\n",
        "    - Метод для инициализации владельца счета: имя владельца счета и установите начальный баланс на 0.\n",
        "    - deposit(amount): Добавьте указанную сумму к балансу.\n",
        "    - withdraw(amount): Вычесть указанную сумму из баланса, если средств достаточно; в противном случае вывести предупреждение.\n",
        "    - get_balance(): Возврат текущего баланса.\n",
        "\n",
        "\n",
        "Создайте объект класса и продемонстрируйте его возможности"
      ],
      "metadata": {
        "id": "FOpIpcLxE-WK"
      }
    },
    {
      "cell_type": "code",
      "source": [
        "class BankAccountco:  # Создаем класс с методами управления банка\n",
        "\n",
        "    def __init__(self, account_holder, balance=0):\n",
        "        # С помощью конструктора создаем поля\n",
        "        self.account_holder = account_holder\n",
        "        self.balance = balance\n",
        "\n",
        "    def creating_an_account(self):  # Метод для создания счета\n",
        "        return {'имя владельца счета': self.account_holder,\n",
        "                'начальный баланс': self.balance}\n",
        "\n",
        "    def deposit(self, amount):  # Метод для пополнения счета\n",
        "        self.balance += amount\n",
        "        return self.balance\n",
        "\n",
        "    def withdraw(self, amount):  # Метод для вывода из счета\n",
        "        if self.balance >= amount:\n",
        "            self.balance -= amount\n",
        "            return self.balance\n",
        "        else:\n",
        "            print(\"Недостаточно средств.\")\n",
        "\n",
        "    def get_balance(self):  # Метод получения текущего балланса\n",
        "        return {'имя владельца счета': self.account_holder,\n",
        "                'баланс': self.balance}\n",
        "\n",
        "\n",
        "first_account = BankAccountco(account_holder=input(\"Введите имя: \"))\n",
        "print(first_account.creating_an_account())\n",
        "# Создаем обьект и проверяем  метод creating_an_account\n",
        "\n",
        "first_account.deposit(int(input(\"Введите сумму депозита: \")))\n",
        "print(first_account.get_balance())\n",
        "# проверяем  метод deposit и get_balance\n",
        "\n",
        "first_account.withdraw(int(input(\"Введите сумму вывода: \")))\n",
        "print(first_account.get_balance())\n",
        "# проверяем  метод withdraw и get_balance\n"
      ],
      "metadata": {
        "id": "WWXNIUrCE99W"
      },
      "execution_count": null,
      "outputs": []
    },
    {
      "cell_type": "markdown",
      "source": [
        "# Задание 3"
      ],
      "metadata": {
        "id": "C5DX5Uf2FfP6"
      }
    },
    {
      "cell_type": "markdown",
      "source": [
        "Возьмите код и задание (Рыцарь и дракон) из предыдущей практики и реализуйте его с применением классов"
      ],
      "metadata": {
        "id": "0cR-MYepFgz6"
      }
    },
    {
      "cell_type": "code",
      "source": [
        "import random\n",
        "\n",
        "class Create:  # Класс для хранения информации о герое и враге\n",
        "    def __init__(self, name=None, armor=None, protection=0, weapon=None, health=100, damage=25, potions=3):\n",
        "        self.name = name  # Имя персонажа\n",
        "        self.armor = armor  # Броня персонажа\n",
        "        self.protection = protection  # Защита от урона\n",
        "        self.weapon = weapon  # Оружие персонажа\n",
        "        self.health = health  # Здоровье персонажа\n",
        "        self.damage = damage  # Урон, который персонаж может нанести\n",
        "        self.potions = potions  # Количество зелий у персонажа\n",
        "\n",
        "hero = Create(name=None, armor=None, protection=0, weapon=None, health=100, damage=25, potions=3)\n",
        "dragon = Create(name=\"черный дракон\", armor=\"чешуя\", protection=10, weapon=\"когти\", health=450,\n",
        "                damage=random.randint(30, 60), potions=None)\n",
        "\n",
        "class Armors:  # Класс для хранения информации о броне\n",
        "    def __init__(self, name=None, protection=None, durability=None):\n",
        "        self.name = name  # Название брони\n",
        "        self.protection = protection  # Защита, которую дает броня\n",
        "        self.durability = durability  # Прочность брони\n",
        "\n",
        "class Swords:  # Класс для хранения информации о мечах\n",
        "    def __init__(self, name=None, damage=None, durability=None):\n",
        "        self.name = name  # Название меча\n",
        "        self.damage = damage  # Диапазон урона, который меч может нанести\n",
        "        self.durability = durability  # Прочность меча\n",
        "\n",
        "# Создание доспехов и оружия\n",
        "leather_armor = Armors(\"кожаная броня\", 5, 1)  # Прочность 1\n",
        "iron_armor = Armors(\"железная броня\", 15, 5)  # Прочность 5\n",
        "steel_armor = Armors(\"стальная броня\", 25, 10)  # Прочность 10\n",
        "\n",
        "# Создание различных мечей с диапазоном урона и прочностью\n",
        "wood_sword = Swords(\"деревянный меч\", (10, 15), 1)  # Урон: 10-15, Прочность 1\n",
        "iron_sword = Swords(\"железный меч\", (20, 30), 5)  # Урон: 20-30, Прочность 5\n",
        "steel_sword = Swords(\"стальной меч\", (30, 50), 10)  # Урон: 30-50, Прочность 10\n",
        "\n",
        "def start_history():  # Функция начинает мини-сюжет\n",
        "    hero.name = input(\"Придумайте имя вашему герою: \")\n",
        "    print(f\"Вы создали героя с именем: {hero.name}.\\n\")\n",
        "    print(\"Мини-сюжет:\")\n",
        "    print(f\"В темном лесу, окруженном горами, жил герой по имени {hero.name}.\\n\"\n",
        "          \"Слухи о драконе, терроризирующем деревни, достигли его ушей.\\n\"\n",
        "          \"Однажды дракон похитил принцессу из королевства.\\n\"\n",
        "          \"Герой поклялся освободить её и покончить с правлением страха.\\n\"\n",
        "          \"Он был готов сразиться с драконом, чтобы вернуть мир.\\n\")\n",
        "    print(f\"{hero.name} решил зайти к кузнецу, чтобы получить доспехи и оружие.\\n\"\n",
        "          \"Кузнец - Грид: Добро пожаловать в мою лавку, что вас интересует?\\n\")\n",
        "\n",
        "    # Вывод доступных доспехов\n",
        "    print(\"Список доступных доспехов:\")\n",
        "    print(f\"{leather_armor.name}: защита: {leather_armor.protection}, прочность: {leather_armor.durability}.\")\n",
        "    print(f\"{iron_armor.name}: защита: {iron_armor.protection}, прочность: {iron_armor.durability}.\")\n",
        "    print(f\"{steel_armor.name}: защита: {steel_armor.protection}, прочность: {steel_armor.durability}.\\n\")\n",
        "\n",
        "    # Запрос выбора брони у пользователя\n",
        "    armor = input(\"Я хочу взять: \").lower()\n",
        "\n",
        "    # Логика выбора брони\n",
        "    if armor == leather_armor.name:\n",
        "        print(\"Кузнец - Грид: ХММ, легкая броня, не годится против сильных врагов.\")\n",
        "        print(f\"{hero.name}: Против дракона.\", \"Кузнец - Грид: Ты сумасшедший, УХОДИ!\", sep=\"\\n\")\n",
        "        print(\"Вы остались без брони и оружия!\")  # Игрок не получает броню\n",
        "\n",
        "    elif armor == iron_armor.name:\n",
        "        print(\"Кузнец - Грид: Хороший выбор, прочная броня!\")\n",
        "        print(f\"{hero.name}: Против дракона.\", \"Кузнец - Грид: Ты уверен, что сможешь его победить?\",\n",
        "              f\"{hero.name}: Я не из слабых.\", sep=\"\\n\")\n",
        "        print(\"Кузнец - Грид: Вот держи: стальная броня. Это мои лучшие доспехи.\")\n",
        "        hero.armor = steel_armor  # Игрок получает стальную броню\n",
        "        print(\"Кузнец - Грид: Теперь выбери оружие.\\n\")\n",
        "        choose_weapon()  # Переход к выбору оружия\n",
        "\n",
        "    elif armor == steel_armor.name:\n",
        "        print(\"Кузнец - Грид: Отличный выбор! С ними ты сможешь противостоять самым сильным врагам!\")\n",
        "        print(f\"{hero.name}: Я готов к бою!\")\n",
        "        print(\"Кузнец - Грид: Не забудь выбрать оружие!\\n\")\n",
        "        choose_weapon()  # Переход к выбору оружия\n",
        "    else:\n",
        "        print(\"Кузнец - Грид: Я тебя не понимаю! Прочь с глаз моих!\\n\")  # Неверный выбор брони\n",
        "\n",
        "    # Сюжетный переход к битве\n",
        "    print(f\"{hero.name} направился в лес мучений, где расположено логово дракона.\\n\"\n",
        "          \"Спустя пару дней он доходит до логова и решается напасть...\\n\"\n",
        "          \"Дракон услышал его. Начинается битва.\\n\")\n",
        "    battle()  # Запускаем поединок\n",
        "\n",
        "def choose_weapon():  # Функция для выбора оружия\n",
        "    print(\"Список доступного оружия:\")\n",
        "    print(f\"{wood_sword.name}: урон: {wood_sword.damage}, прочность: {wood_sword.durability}\")\n",
        "    print(f\"{iron_sword.name}: урон: {iron_sword.damage}, прочность: {iron_sword.durability}\")\n",
        "    print(f\"{steel_sword.name}: урон: {steel_sword.damage}, прочность: {steel_sword.durability}\")\n",
        "\n",
        "    # Запрос выбора оружия у пользователя\n",
        "    sword = input(\"Я возьму: \").lower()\n",
        "    if sword == wood_sword.name:\n",
        "        print(\"Кузнец - Грид: Возьми стальной меч и не позорься.\")\n",
        "        hero.weapon = wood_sword  # Игрок выбирает деревянный меч\n",
        "    elif sword == iron_sword.name:\n",
        "        print(\"Кузнец - Грид: Хороший выбор!\")\n",
        "        hero.weapon = iron_sword  # Игрок выбирает железный меч\n",
        "    elif sword == steel_sword.name:\n",
        "        print(\"Кузнец - Грид: Отличный выбор!\")\n",
        "        hero.weapon = steel_sword  # Игрок выбирает стальной меч\n",
        "    else:\n",
        "        print(\"Кузнец - Грид: У меня такого меча нету. Вы остались без меча!\")  # Неверный выбор оружия\n",
        "\n",
        "def calculate_damage(base_damage):  # Функция определяет диапазон урона\n",
        "    return random.randint(base_damage[0], base_damage[1])  # Возвращает случайное значение в заданном диапазоне\n",
        "\n",
        "def battle():  # Функция поединка\n",
        "    print(f\"Начинается битва между {hero.name} и {dragon.name}!\")  # Объявление о начале битвы\n",
        "    while hero.health > 0 and dragon.health > 0:  # Цикл продолжается, пока оба живы\n",
        "        print(f\"{hero.name} здоровье: {hero.health} против {dragon.name} здоровье: {dragon.health}\\n\")\n",
        "        action = input(\"1: обычная атака / 2: использовать зелье / 3: сильная атака\\nВыберите действие: \")\n",
        "\n",
        "        # Логика обычной атаки\n",
        "        if action == \"1\":\n",
        "            if hero.weapon:\n",
        "                damage_dealt = calculate_damage(hero.weapon.damage)  # Расчет урона\n",
        "                print(f\"\\n{hero.name} наносит {damage_dealt} урона {dragon.name}.\")\n",
        "                dragon.health -= damage_dealt  # Уменьшение здоровья дракона\n",
        "\n",
        "                hero.weapon.durability -= 1  # Уменьшение прочности оружия\n",
        "                if hero.weapon.durability <= 0:  # Проверка на износ\n",
        "                    print(f\"{hero.name} потерял {hero.weapon.name} из-за износа.\")\n",
        "                    hero.damage -= 5  # Уменьшение урона героя\n",
        "                    hero.weapon = None  # Удаление оружия\n",
        "            else:\n",
        "                print(f\"{hero.name} не имеет оружия, атака невозможна.\")  # Если оружия нет\n",
        "\n",
        "        # Логика использования зелья\n",
        "        elif action == \"2\":\n",
        "            if hero.potions > 0:  # Проверка на наличие зелий\n",
        "                heal_amount = 150  # Количество восстанавливаемого здоровья\n",
        "                hero.health += heal_amount  # Восстановление здоровья\n",
        "                hero.potions -= 1  # Уменьшение количества зелий\n",
        "                print(f\"{hero.name} использует зелье и восстанавливает {heal_amount} здоровья! Осталось зелий: {hero.potions}.\")\n",
        "            else:\n",
        "                print(\"У вас нет зелий!\")  # Если зелий нет\n",
        "\n",
        "        # Логика сильной атаки\n",
        "        elif action == \"3\":\n",
        "            if hero.weapon:\n",
        "                strong_damage = calculate_damage((hero.damage * 2, hero.damage * 2 + 10))  # Расчет урона\n",
        "                print(f\"\\n{hero.name} использует сильную атаку и наносит {strong_damage} урона {dragon.name}.\")\n",
        "                dragon.health -= strong_damage  # Уменьшение здоровья дракона\n",
        "            else:\n",
        "                print(f\"{hero.name} не имеет оружия, сильная атака невозможна.\")  # Если оружия нет\n",
        "\n",
        "        else:\n",
        "            print(\"Неверный выбор, попробуйте снова.\")  # Неверный выбор действия\n",
        "            continue  # Повторить цикл\n",
        "\n",
        "        # Проверка на победу дракона\n",
        "        if dragon.health <= 0:\n",
        "            print(f\"{dragon.name} повержен! {hero.name} победил!\")  # Объявление победы героя\n",
        "            break\n",
        "\n",
        "        # Урон, который дракон наносит герою\n",
        "        dragon_damage = max(0, dragon.damage - (hero.armor.protection if hero.armor else 0))  # Учитываем защиту\n",
        "        print(f\"{dragon.name} наносит {dragon_damage} урона {hero.name}.\")\n",
        "        hero.health -= dragon_damage  # Уменьшение здоровья героя\n",
        "\n",
        "        # Проверка на износ брони\n",
        "        if hero.armor:\n",
        "            hero.armor.durability -= 1  # Уменьшение прочности брони\n",
        "            if hero.armor.durability <= 0:  # Проверка на износ\n",
        "                print(f\"{hero.name} потерял {hero.armor.name} из-за износа.\")\n",
        "                dragon.damage += 50  # Увеличение урона дракона\n",
        "                hero.armor = None  # Удаление брони\n",
        "\n",
        "        # Проверка на поражение героя\n",
        "        if hero.health <= 0:\n",
        "            print(f\"{hero.name} повержен! {dragon.name} победил!\")  # Объявление поражения героя\n",
        "            break\n",
        "\n",
        "start_history()  # Запускаем историю\n"
      ],
      "metadata": {
        "id": "Oz9BZbhAFwua"
      },
      "execution_count": null,
      "outputs": []
    },
    {
      "cell_type": "markdown",
      "source": [
        "# Дополнительное задание\n"
      ],
      "metadata": {
        "id": "b_mJHXcQGI9t"
      }
    },
    {
      "cell_type": "markdown",
      "source": [
        "Задача: Система управления библиотекой\n",
        "\n",
        "**Цель**\n",
        "Создайте простую систему управления библиотекой, которая позволит пользователям добавлять книги, брать книги, возвращать книги и просматривать список доступных книг.\n",
        "\n",
        "**Требования**\n",
        "\n",
        "1. **Определение класса**:\n",
        "   – Создайте класс с именем «Book» со следующими атрибутами:\n",
        "     - `title`\n",
        "     - `автор`\n",
        "     - `isbn`\n",
        "     - `is_borrowed` (по умолчанию `False`)\n",
        "\n",
        "2. **Класс библиотеки**:\n",
        "   - Создайте класс с именем Library, который управляет коллекцией книг.\n",
        "   - Класс должен иметь следующие методы:\n",
        "     - `__init__(self)`: инициализирует пустой список книг.\n",
        "     - `add_book(self, book: Book)`: добавляет новую книгу в библиотеку.\n",
        "     - `borrow_book(self, isbn: str)`: помечает книгу как заимствованную. Если книга не найдена или уже взята, выведите соответствующее сообщение.\n",
        "     - `return_book(self, isbn: str)`: помечает книгу как возвращенную. Если книга не найдена или не была взята взаймы, выведите соответствующее сообщение.\n",
        "     - `list_available_books(self)`: печатает список всех доступных книг в библиотеке.\n",
        "     - `find_book(self, isbn: str)`: возвращает объект книги, если он найден, в противном случае возвращает `None`.\n",
        "\n",
        "3. **Взаимодействие с пользователем**:\n",
        "   - Создайте простое текстовое меню, которое позволит пользователям:\n",
        "     - Добавить книгу\n",
        "     - Одолжить книгу\n",
        "     - Вернуть книгу\n",
        "     - Список доступных книг\n",
        "     - Выйти из программы"
      ],
      "metadata": {
        "id": "pnIUdFPcGOVL"
      }
    },
    {
      "cell_type": "code",
      "source": [],
      "metadata": {
        "id": "GKKmdfN8GL6f"
      },
      "execution_count": null,
      "outputs": []
    },
    {
      "cell_type": "code",
      "source": [],
      "metadata": {
        "id": "ZXOWt9LeqWx0"
      },
      "execution_count": null,
      "outputs": []
    }
  ]
}