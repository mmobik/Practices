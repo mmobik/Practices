{
  "nbformat": 4,
  "nbformat_minor": 0,
  "metadata": {
    "colab": {
      "provenance": [],
      "include_colab_link": true
    },
    "kernelspec": {
      "name": "python3",
      "display_name": "Python 3"
    },
    "language_info": {
      "name": "python"
    }
  },
  "cells": [
    {
      "cell_type": "markdown",
      "metadata": {
        "id": "view-in-github",
        "colab_type": "text"
      },
      "source": [
        "<a href=\"https://colab.research.google.com/github/mmobik/Practices/blob/main/%22%D0%9F%D1%80%D0%B0%D0%BA%D1%82%D0%B8%D0%BA%D0%B0_0_3_0_%22.ipynb\" target=\"_parent\"><img src=\"https://colab.research.google.com/assets/colab-badge.svg\" alt=\"Open In Colab\"/></a>"
      ]
    },
    {
      "cell_type": "markdown",
      "source": [
        "ФИО"
      ],
      "metadata": {
        "id": "phMKaFq3DN13"
      }
    },
    {
      "cell_type": "code",
      "execution_count": null,
      "metadata": {
        "id": "3CWpaI7SDK8t",
        "colab": {
          "base_uri": "https://localhost:8080/"
        },
        "outputId": "5d6dddd0-dc15-468b-971a-69ef19c2908f"
      },
      "outputs": [
        {
          "output_type": "stream",
          "name": "stdout",
          "text": [
            "Ощепков Сергей Алексеевич\n"
          ]
        }
      ],
      "source": [
        "print(\"Ощепков Сергей Алексеевич\")"
      ]
    },
    {
      "cell_type": "markdown",
      "source": [
        "**Во всей практике нельзя применять библиотеки предоставляющие готовые решения!**"
      ],
      "metadata": {
        "id": "jyIy3GOgFOCe"
      }
    },
    {
      "cell_type": "markdown",
      "source": [
        "# **Задача 1.**\n"
      ],
      "metadata": {
        "id": "XizmlL1RK2t3"
      }
    },
    {
      "cell_type": "markdown",
      "source": [
        "\n",
        "\n",
        "Типы данных Напишите программу на Python, которая принимает список чисел в качестве входных данных от пользователя, а затем выводит сумму, среднее значение и максимальное значение из списка.\n",
        "\n",
        "***Нельзя использовать: len(), min(), max(), average(), sum()***\n",
        "\n",
        "Дано:\n",
        "```\n",
        "1 2 3 4 5 6 7\n",
        "```\n",
        "Вывод:\n",
        "\n",
        "```\n",
        "Сумма чисел: 28\n",
        "Среднее арифм.: 4.0\n",
        "Максимальное значение: 7\n",
        "```\n",
        "\n"
      ],
      "metadata": {
        "id": "p0v6KtHTFKSd"
      }
    },
    {
      "cell_type": "code",
      "source": [
        "max_num = 0\n",
        "my_sum = 0\n",
        "my_account = 0\n",
        "a = input().split()\n",
        "for i in a:\n",
        "    my_sum += int(i)\n",
        "    my_account += 1\n",
        "    if int(i) > max_num:\n",
        "        max_num = int(i)\n",
        "print(f\"Сумма чисел: {my_sum}\", f\"Среднее арифм.: {(my_sum / my_account):.2f}\", f\"Максимальное значение: {max_num}\", sep=\"\\n\")\n"
      ],
      "metadata": {
        "id": "0e1Virl0FpF6",
        "colab": {
          "base_uri": "https://localhost:8080/"
        },
        "outputId": "1c1a0f8a-f202-417b-88f9-6fbe61b6c507"
      },
      "execution_count": null,
      "outputs": [
        {
          "output_type": "stream",
          "name": "stdout",
          "text": [
            "25 45 87 25 14 56 32\n",
            "Сумма чисел: 284\n",
            "Среднее арифм.: 40.57142857142857\n",
            "Максимальное значение: 87\n"
          ]
        }
      ]
    },
    {
      "cell_type": "markdown",
      "source": [
        "# **Задача 2.**"
      ],
      "metadata": {
        "id": "uFluc5OSK0NH"
      }
    },
    {
      "cell_type": "markdown",
      "source": [
        "\n",
        "Напишите программу на Python, которая принимает список слов в качестве входных данных от пользователя, а затем распечатывает список в обратном порядке.\n",
        "\n",
        "Ввод:\n",
        "\n",
        "```\n",
        "апельсин мандарин яблоко\n",
        "```\n",
        "\n",
        "Вывод:\n",
        "\n",
        "```\n",
        "яблоко мандарин апельсин\n",
        "```"
      ],
      "metadata": {
        "id": "6T8vg324GG4Z"
      }
    },
    {
      "cell_type": "code",
      "source": [
        "a = input(\"Введите список слов: \").split()\n",
        "a.reverse()\n",
        "for i in a:\n",
        "    print(str(i), end=\" \")\n"
      ],
      "metadata": {
        "id": "v3AWj4ufGKox",
        "outputId": "2449e1aa-1c23-41e9-dc68-a5674077c9ec",
        "colab": {
          "base_uri": "https://localhost:8080/"
        }
      },
      "execution_count": null,
      "outputs": [
        {
          "output_type": "stream",
          "name": "stdout",
          "text": [
            "Введите список слов: апельсин мандарин яблоко\n",
            "яблоко мандарин апельсин "
          ]
        }
      ]
    },
    {
      "cell_type": "markdown",
      "source": [
        "# **Задача 3**"
      ],
      "metadata": {
        "id": "D1KkCxtIKxRx"
      }
    },
    {
      "cell_type": "markdown",
      "source": [
        "Простой чат-бот\n",
        "Создайте простого чат-бота, который отвечает на основные запросы пользователей. Программа должна использовать условные выражения для определения намерений пользователя и последующего соответствующего ответа.\n",
        "\n",
        "Чат бот может:\n",
        "\n",
        "- помогать складывать числа\n",
        "- подсказывать фильм, музыку и тд (из заранее созданного списка)\n",
        "- создавать список дел (а также выводить его, обновлять, очищать)\n",
        "\n",
        "Интерфейс чат-бота на ваше усмотрение, это могут быть как заранее определенные команды, так и к примеру вызов команды по номеру\n",
        "\n",
        "*Реализовать без использования функций*\n",
        "\n",
        "Пример:\n",
        "\n",
        "Ввод:\n",
        "\n",
        "```\n",
        "Олег, какую мызыку посоветуешь?\n",
        "```\n",
        "\n",
        "Вывод:\n",
        "\n",
        "```\n",
        "Я бы посоветовал вам: Led Zeppelin Stairway to Heaven\n",
        "```"
      ],
      "metadata": {
        "id": "Yq8Jgb9yHvSi"
      }
    },
    {
      "cell_type": "code",
      "source": [
        "import random\n",
        "personal_list = {}\n",
        "n = 1\n",
        "name = input(\"Здравствуйте для начала введите своё имя: \")\n",
        "print(f\"Приветствую, {name}\\n\")\n",
        "\n",
        "print(\"Мой функционал:\", \"1. помогать складывать числа\", \"2. подсказывать фильм, музыку\",\n",
        "      \"3. создавать список дел и редактировать его\\n\", sep=\"\\n\")\n",
        "\n",
        "while True:\n",
        "    request = input(\"Что вы хотели спросить? \").lower().split()\n",
        "\n",
        "    if \"сложить\" in request or \"складывать\" in request or \"сумма\" in request or \"сумму\" in request:\n",
        "        numbers_sum = 0\n",
        "        numbers = input(\"Хорошо, введите снизу числа, чтобы я мог их сложить: \").split()\n",
        "        for num in numbers:\n",
        "            numbers_sum += int(num)\n",
        "        print(f\"Вот результат сложения: {numbers_sum}\")\n",
        "        request = input(\"Хочешь ли ты закончить? да/enter: \").lower()\n",
        "        if request == \"да\":\n",
        "            print(\"До встречи!\")\n",
        "            break\n",
        "\n",
        "    elif \"музыка\" in request or \"музыки\" in request or \"музыку\" in request or \"плейлист\" in request:\n",
        "        music = [\"Queen - Bohemian Rhapsody\", \"The Beatles — Hey Jude\", \"Led Zeppelin — Stairway To Heaven\",\n",
        "                 \"Eminem — Lose Yourself\"]\n",
        "        print(f'Я могу посоветовать тебе: {random.choice(music)}')\n",
        "        request = input(\"Хочешь ли ты закончить? да/enter: \").lower()\n",
        "        if request == \"да\":\n",
        "            print(\"До встречи!\")\n",
        "            break\n",
        "\n",
        "    elif \"фильм\" in request or \"фильмец\" in request or \"фильмов\" in request:\n",
        "        film = [\"Властелин колец: Братство Кольца\", \"Начало\", \"Интерстеллар\", \"Список Шиндлера\", \"Побег из Шоушенка\",\n",
        "                \"Бойцовский клуб\", \"Семь\", \"Одержимость\", \"Криминальное чтиво\"]\n",
        "        print(f'Я могу посоветовать тебе фильм: {random.choice(film)}')\n",
        "        request = input(\"Хочешь ли ты закончить? да/enter: \").lower()\n",
        "        if request == \"да\":\n",
        "            print(\"До встречи!\")\n",
        "            break\n",
        "\n",
        "    elif \"создать\" in request or \"список\" in request or \"дел\" in request:\n",
        "        while True:\n",
        "            request = input(f\"Введите {n} пункт списка или 'stop', чтобы закончить: \").lower()\n",
        "            if request != \"stop\":\n",
        "                personal_list[n] = request\n",
        "                n += 1\n",
        "            else:\n",
        "                break\n",
        "        print(\"Ваш список дел:\")\n",
        "        for key, value in personal_list.items():\n",
        "            print(f\"{key}: {value}\")\n",
        "        request = input(\"Хочешь ли ты закончить? да/enter: \").lower()\n",
        "        if request == \"да\":\n",
        "            print(\"До встречи!\")\n",
        "            break\n",
        "\n",
        "    elif \"очистить\" in request or \"удалить\" in request or \"стереть\" in request:\n",
        "        personal_list.clear()\n",
        "        print(\"Список дел очищен.\")\n",
        "        request = input(\"Хочешь ли ты закончить? да/enter\").lower()\n",
        "        if request == \"да\":\n",
        "            print(\"До встречи!\")\n",
        "            break\n",
        "    elif \"показать\" in request or \"покажи\" in request or \"высвети\" in request:\n",
        "        for key, value in personal_list.items():\n",
        "            print(f\"{key}: {value}\")\n",
        "        request = input(\"Хочешь ли ты закончить? да/enter: \").lower()\n",
        "        if request == \"да\":\n",
        "            print(\"До встречи!\")\n",
        "            break\n",
        "    else:\n",
        "        print(\"Извини, я тебя не понял, напиши пожалуйста еще раз!\")\n"
      ],
      "metadata": {
        "id": "fmW-tmUtINN9",
        "colab": {
          "base_uri": "https://localhost:8080/"
        },
        "outputId": "ffc14ae8-c957-4e00-fc6a-7fe81b5dc0b9"
      },
      "execution_count": null,
      "outputs": [
        {
          "output_type": "stream",
          "name": "stdout",
          "text": [
            "Здравствуйте для начала введите своё имя: с\n",
            "Приветствую, с\n",
            "\n",
            "Мой функционал:\n",
            "1. помогать складывать числа\n",
            "2. подсказывать фильм, музыку\n",
            "3. создавать список дел и редактировать его\n",
            "\n",
            "Что вы хотели спросить? создать\n",
            "Введите 1 пункт списка или 'stop', чтобы закончить: выв\n",
            "Введите 2 пункт списка или 'stop', чтобы закончить: ыв\n",
            "Введите 3 пункт списка или 'stop', чтобы закончить: stop\n",
            "Ваш список дел:\n",
            "1: выв\n",
            "2: ыв\n",
            "Хочешь ли ты закончить? да/enterда\n",
            "До встречи!\n"
          ]
        }
      ]
    },
    {
      "cell_type": "markdown",
      "source": [
        "# **Задача 4.**\n"
      ],
      "metadata": {
        "id": "PHXBfyc6Ko7D"
      }
    },
    {
      "cell_type": "markdown",
      "source": [
        "Камень, ножницы, бумага\n",
        "\n",
        "Создайте игру в Камень, ножницы, бумагу, в которой пользователь может играть против компьютера. Программа должна запросить выбор пользователя, а затем сгенерировать выбор компьютера. Затем программа должна определить победителя на основе правил игры.\n",
        "\n",
        "**Этап 1:**\n",
        "\n",
        "Определение победителя\n",
        "\n",
        "**Этап 2:**\n",
        "  \n",
        "Игра до 3 побед\n",
        "\n",
        "\n",
        "Ввод для \"Этап 1\":\n",
        "\n",
        "```\n",
        "Камень\n",
        "```\n",
        "\n",
        "Вывод:\n",
        "\n",
        "```\n",
        "Компьютер: Ножницы\n",
        "Игрок: Камень\n",
        "Победа: Игрок\n",
        "```"
      ],
      "metadata": {
        "id": "jnKWeYleI0j6"
      }
    },
    {
      "cell_type": "code",
      "source": [
        "import random\n",
        "rule = True\n",
        "player = 0\n",
        "computer = 0\n",
        "game = [\"камень\", \"ножницы\", \"бумага\"]\n",
        "print(f\"Добро пожаловать в игру камень ножницы бумага !\")\n",
        "\n",
        "\n",
        "while rule:\n",
        "    a = input()\n",
        "    b = random.choice(game)\n",
        "    if a == b:\n",
        "        print(f\"Компьютер: {b}\", f\"Игрок: {a}\", f\"В раунде ничья счет: ({player}/{computer})\", sep=\"\\n\")\n",
        "        if player == 3:\n",
        "            print(\"Победа: Игрок\")\n",
        "            break\n",
        "        elif computer == 3:\n",
        "            print(\"Победа: Компьютер\")\n",
        "            break\n",
        "        else:\n",
        "            continue\n",
        "\n",
        "    elif a == \"камень\" and b == \"бумага\":\n",
        "        computer += 1\n",
        "        print(f\"Компьютер: {b}\", f\"Игрок: {a}\", f\"игрок проиграл в раунде\", f\"Счет:({player}/{computer})\", sep=\"\\n\")\n",
        "        if player == 3:\n",
        "            print(\"Победа: Игрок\")\n",
        "            break\n",
        "        elif computer == 3:\n",
        "            print(\"Победа: Компьютер\")\n",
        "            break\n",
        "        else:\n",
        "            continue\n",
        "\n",
        "    elif a == \"камень\" and b == \"ножницы\":\n",
        "        computer += 1\n",
        "        print(f\"Компьютер: {b}\", f\"Игрок: {a}\", f\"игрок победил в раунде\", f\"Счет:({player}/{computer})\", sep=\"\\n\")\n",
        "        if player == 3:\n",
        "            print(\"Победа: Игрок\")\n",
        "            break\n",
        "        elif computer == 3:\n",
        "            print(\"Победа: Компьютер\")\n",
        "            break\n",
        "        else:\n",
        "            continue\n",
        "\n",
        "    elif a == \"бумага\" and b == \"ножницы\":\n",
        "        computer += 1\n",
        "        print(f\"Компьютер: {b}\", f\"Игрок: {a}\", f\"игрок проиграл в раунде\", f\"Счет:({player}/{computer})\", sep=\"\\n\")\n",
        "        if player == 3:\n",
        "            print(\"Победа: Игрок\")\n",
        "            break\n",
        "        elif computer == 3:\n",
        "            print(\"Победа: Компьютер\")\n",
        "            break\n",
        "        else:\n",
        "            continue\n",
        "\n",
        "    elif a == \"бумага\" and b == \"камень\":\n",
        "        player += 1\n",
        "        print(f\"Компьютер: {b}\", f\"Игрок: {a}\", f\"игрок победил в раунде\", f\"Счет:({player}/{computer})\", sep=\"\\n\")\n",
        "        if player == 3:\n",
        "            print(\"Победа: Игрок\")\n",
        "            break\n",
        "        elif computer == 3:\n",
        "            print(\"Победа: Компьютер\")\n",
        "            break\n",
        "        else:\n",
        "            continue\n",
        "\n",
        "    elif a == \"ножницы\" and b == \"бумага\":\n",
        "        player += 1\n",
        "        print(f\"Компьютер: {b}\", f\"Игрок: {a}\", f\"игрок победил в раунде\", f\"Счет:({player}/{computer})\", sep=\"\\n\")\n",
        "        if player == 3:\n",
        "            print(\"Победа: Игрок\")\n",
        "            break\n",
        "        elif computer == 3:\n",
        "            print(\"Победа: Компьютер\")\n",
        "            break\n",
        "        else:\n",
        "            continue\n",
        "\n",
        "    elif a == \"ножницы\" and b == \"камень\":\n",
        "        computer += 1\n",
        "        print(f\"Компьютер: {b}\", f\"Игрок: {a}\", f\"игрок проиграл в раунде\", f\"Счет:({player}/{computer})\", sep=\"\\n\")\n",
        "        if player == 3:\n",
        "            print(\"Победа: Игрок\")\n",
        "            break\n",
        "        elif computer == 3:\n",
        "            print(\"Победа: Компьютер\")\n",
        "            break\n",
        "        else:\n",
        "            continue\n"
      ],
      "metadata": {
        "id": "ooIPCRe_JHkX"
      },
      "execution_count": null,
      "outputs": []
    },
    {
      "cell_type": "markdown",
      "source": [
        "# **Задача 5.**"
      ],
      "metadata": {
        "id": "Hg4FJNFbLHQO"
      }
    },
    {
      "cell_type": "markdown",
      "source": [
        "Создайте игру \"Палач\" или \"Виселица\", в которой пользователь должен угадать слово, предлагая буквы. Программа должна выбрать случайное слово, а затем разрешить пользователю угадывать буквы. После каждого угадывания программа должна сообщать пользователю, есть ли в слове буква или нет.\n",
        "\n",
        "**Этап 1**\n",
        "Создать саму игру\n",
        "\n",
        "**Этап 2:**\n",
        "Ввести подсчет количества очков и ограничения на попытки\n",
        "\n",
        "**Этап 3:** Добавить возможность сразу угадать слово"
      ],
      "metadata": {
        "id": "OHqj3HJuLJgY"
      }
    },
    {
      "cell_type": "code",
      "source": [
        "import random\n",
        "n = 0\n",
        "attempt = 3\n",
        "score = 0\n",
        "my_list = [\"Rasalas\", \"vascularize\", \"portiomollis\", \"gnomic\", \"lettuces\", \"pyrotechnician\", \"mafficker\", \"OCD\", \"malleate\", \"Morgen\", \"unpunctualness\", \"Gwenora\", \"showd\", \"Olympiad\", \"Hackleburg\", \"lucrative\", \"develope\", \"jargoner\", \"preobligation\", \"Palicourea\", \"pleasant\", \"place\", \"Phycochromophyceae\", \"querido\", \"mythmaking\", \"mogote\", \"skullduggeries\", \"histaminic\", \"Gamay\", \"dibblers\", \"Nievelt\", \"gelatinity\", \"chloroplatinous\", \"feminist\", \"infirmarer\", \"gynecomastia\", \"cataclysmist\", \"autocystoplasty\", \"demonstratability\", \"hyoglycocholic\", \"unbreached\", \"ramiferous\", \"jejunity\", \"Fanchette\", \"bonuses\", \"hedgehops\", \"gem\", \"ejaculation\", \"Wendin\", \"placably\", \"coria\", \"landgafol\", \"eucyclic\", \"stomach\", \"overmixed\", \"Narcho\", \"puffed\", \"gullery\", \"brazens\", \"erosionally\", \"dandilly\", \"assentors\", \"servicemen\", \"transited\", \"dog\", \"Palaeophis\", \"kail\", \"provincial\", \"bittering\", \"Brighouse\", \"darer\", \"SAKDC\", \"physis\", \"overnoble\", \"quadricentennial\", \"cloches\", \"transformator\", \"misunderstander\", \"aforethought\", \"immunohematology\", \"salt\", \"bongos\", \"educations\", \"cardiologies\", \"qui\", \"Meppen\", \"werewolfism\", \"Galuppi\", \"smotherable\", \"leaves\", \"dampening\", \"harmonise\", \"Askelon\", \"roupily\", \"chalkotheke\", \"encashes\", \"Galchas\", \"swanky\", \"promotional\", \"sugar\", \"Caramuel\", \"little\", \"tufas\", \"glycyl\", \"fibromatoid\", \"decrudescence\", \"stretchers\", \"deratize\", \"centrosphere\", \"lucidness\", \"debuting\", \"phonotypical\", \"lazuli\", \"disgusted\", \"interseptal\", \"driveler\", \"incautious\", \"tegumentum\", \"Waldack\", \"backwall\", \"milldoll\", \"salmonoid\", \"mizmaze\", \"unfriendlier\", \"sovietizing\", \"lorettoite\", \"hypothecates\", \"campsite\", \"puritandom\", \"upward\", \"scry\", \"tillot\", \"subtrapezoidal\", \"fleshliest\", \"Geoglossum\", \"sundry\", \"Chisedec\", \"adversed\", \"pustuled\", \"hypaethrum\", \"enallachrome\", \"uncoatedness\", \"interactive\", \"unthinkability\", \"recchosen\", \"muchfold\", \"printing\", \"skeptic's\", \"abutter\", \"Stoecker\", \"dryness\", \"endemical\", \"saice\", \"renatures\", \"PDN\", \"preposterousness\", \"aleukemic\", \"LEGO\", \"Acocanthera\", \"Parley\", \"Melilotus\", \"blunderers\", \"mid\", \"paludicoline\", \"unconciliating\", \"word\", \"dextrinize\", \"enworthy\", \"nitrators\", \"superformally\", \"misfocussing\", \"bullfinch\", \"intreatable\", \"Manchu\", \"rebrew\", \"pub\", \"acidulating\", \"baseheartedness\", \"ruby\", \"ATIS\", \"dicotylous\", \"Gwent\", \"marls\", \"mom\", \"Trigoniaceae\", \"quinqueseptate\", \"judication\", \"wangtooth\", \"four\", \"delinter\", \"indigoid\", \"gaolers\", \"bandores\", \"pantheistical\", \"paradental\", \"loellingite\", \"organonymal\", \"blastocarpous\", \"nonimpartation\", \"autarch\", \"mausoleums\", \"Mountainside\", \"insubmissive\", \"echoizing\", \"Piarist\", \"undegrading\", \"powter\", \"nonalphabetic\", \"resay\", \"understay\", \"restroom\", \"pandal\", \"incomprehensiblies\", \"burlecue\", \"Philolaus\", \"epris\", \"escribing\", \"verrucano\", \"occultism\", \"fortiori\", \"sprayboard\", \"Lillington\", \"elaborating\", \"mandrakes\", \"amahs\", \"uniphonous\", \"typhus\", \"quasi\", \"resinic\", \"unmendably\", \"Behre\", \"misaccept\", \"pike\", \"Reichstag\", \"autonetics\", \"bowwood\", \"dispossession\", \"smutchiest\", \"trachles\", \"atmospherology\", \"balebos\", \"slipperily\", \"prerogatival\", \"Recha\", \"Tiliaceae\", \"centering\", \"electroconvulsive\", \"antiderivative\", \"galactolipin\", \"ind\", \"autopoisonous\", \"exanthemata\", \"crisp\", \"bescorched\", \"shelfroom\", \"stereoradiograph\", \"snells\", \"descries\", \"regimentation\", \"centrality\", \"cockbilling\", \"good\", \"fibrinopurulent\", \"air\", \"editorializing\", \"Ismet\", \"Delphic\", \"mist\", \"Beltsville\", \"rung\", \"Piggy\", \"Valaskjalf\", \"seggrom\", \"quasi\", \"Melipona\", \"solver\", \"skewers\", \"syntactical\", \"syenitic\", \"sherds\", \"zoic\", \"Capetonian\", \"decem\", \"selectivity\", \"resweeten\", \"mineralogies\", \"frislet\", \"pacificated\", \"air\", \"airchecks\", \"contumax\", \"mattes\", \"preagony\", \"betulaceous\", \"his'n\", \"pedicular\", \"satisfice\", \"survivorship\", \"Kerril\", \"exoterically\", \"bombazet\", \"endopod\", \"Wicks\", \"anopia\", \"roturiers\", \"semianthracite\", \"tholepin\", \"lunacy\", \"Tylosaurus\", \"ruralist\", \"shinsplints\", \"Servidor\", \"wardroom\", \"misacting\", \"trippets\", \"reddingite\", \"tuner\", \"embouchures\", \"semibarbaric\", \"ill\", \"double\", \"MSHA\", \"discipleship\", \"clock\", \"amortized\", \"khaphs\", \"outboard\", \"hugmatee\", \"bumble\", \"subacumination\", \"prunetin\", \"jaunced\", \"papooseroot\", \"zoocarp\", \"boong\", \"unprofitability\", \"naissance\", \"braggadocios\", \"impresario\", \"interestingly\", \"outroved\", \"ferrocene\", \"Aniellidae\", \"paternosterer\", \"aelurophobe\", \"flutelike\", \"untranslated\", \"bankrupting\", \"brattie\", \"unpracticable\", \"foveole\", \"allelism\", \"nontribal\", \"zealousnesses\", \"orlet\", \"immunotherapies\", \"wintrous\", \"intracellularly\", \"oscheocele\", \"Carabancel\", \"trilemma\", \"perforator\", \"algometrically\", \"tubesmith\", \"vaalite\", \"postrorse\", \"brain\", \"hardenedness\", \"scientist's\", \"superdivine\", \"spelling\", \"testacies\", \"disputator\", \"pileworm\", \"stockinging\", \"riverain\", \"cardiomyomalacia\", \"brennage\", \"Adolphus\", \"gridlock\", \"tackiest\", \"Fernald\", \"afire\", \"clavicularium\", \"odontophorous\", \"printmaking\", \"Richers\", \"duplone\", \"Charlotteville\", \"close\", \"endoute\", \"Taber\", \"CA\", \"fogey\", \"ermined\", \"benzotetrazole\", \"upknit\", \"fillagreed\", \"Zeralda\", \"digitigrade\", \"chemicobiology\", \"breech\", \"Javler\", \"cacciatora\", \"luncheon\", \"merchandized\", \"tight\", \"zomotherapy\", \"uruses\", \"tubehearted\", \"isographic\", \"droop\", \"albumenize\", \"striations\", \"reglorification\", \"copus\", \"coul\", \"transcondylar\", \"parabling\", \"puke\", \"prehepatic\", \"acanthion\", \"metron\", \"philanthropize\", \"seedcake\", \"Malatya\", \"spring\", \"sheerlegs\", \"Palenque\", \"hyperthermic\", \"comptroller's\", \"firms\", \"snashes\", \"gramophonist\", \"pokeys\", \"medimn\", \"soft\", \"sacahuiste\", \"necks\", \"Truckles\", \"telecryptograph\", \"woopsed\", \"polar\", \"agitations\", \"redescribing\", \"indigested\", \"simplify\", \"proms\", \"superevangelically\", \"repromised\", \"imonium\", \"Neison\", \"Chora\", \"pseudobulb\", \"hologram\", \"diaphanotype\", \"Charlyne\", \"preterequine\", \"Coudersport\", \"Vertrees\", \"portmanteaus\", \"Bellacoola\", \"Amboise\", \"reliques\", \"wallhick\", \"krooni\", \"rebottle\", \"Frodine\", \"Hickie\", \"frijole\", \"psorophthalmic\", \"Scolopendrellidae\", \"foolishness\", \"wool\", \"protax\", \"teen\", \"blunts\", \"isophasal\", \"deking\", \"cephalitis\", \"noncommerciality\", \"self\", \"wharfed\", \"prepectoral\", \"Carpio\", \"delayed\", \"Haimes\", \"Antimerina\", \"taboo\", \"turbidities\", \"well\", \"ADT\", \"ingrate\", \"Katahdin\", \"cardiauxe\", \"whorl\", \"zimbaloon\", \"Farwell\", \"infesters\", \"hobbledehoyishness\", \"Tapuyan\", \"comprehendible\", \"simonism\", \"nonidiomatical\", \"ununifiable\", \"curmurring\", \"achromatous\", \"Adamawa\", \"thirsty\", \"airohydrogen\", \"marble\", \"herniopuncture\", \"frizzlier\", \"maiefic\", \"MLF\", \"Tylerton\", \"sixthet\", \"ungagged\", \"toiled\", \"ugsome\", \"placative\", \"befalling\", \"Logres\", \"samples\", \"homophony\", \"right\", \"Maidanek\", \"unannoyingly\", \"subdue\", \"antler\", \"dowsed\", \"Lonnie\", \"phonotypist\", \"nonsiliceous\", \"rendition\", \"sloshes\", \"unze\", \"adversative\", \"Oppen\", \"underseaman\", \"Qq.\", \"shea\", \"thinkability\", \"bastion\", \"interveniency\", \"pseudolaminated\", \"refractionist\", \"blunged\", \"Godavari\", \"cytopharynges\", \"alphabetism\", \"choleras\", \"stir\", \"Non\", \"nonprojectively\", \"tradership\", \"disproven\", \"progeotropic\", \"holk\", \"vertiginate\", \"RBI\", \"trieteric\", \"Helpmann\", \"grottos\", \"verbids\", \"double\", \"selion\", \"unfelicitous\", \"bajonado\", \"septentrionally\", \"Fisch\", \"bemurmuring\", \"diclinism\", \"muckraking\", \"jinglier\", \"Celticist\", \"assise\", \"nonintelligence\", \"command\", \"Giauque\", \"nonprincipled\", \"bromocyanide\", \"mechanicalize\", \"mixen\", \"Pythagoras\", \"H\", \"invitable\", \"hereunto\", \"melicrate\", \"twiddle\", \"gammaroid\", \"palatoschisis\", \"hendecyl\", \"Olimpia\", \"xiphiiform\", \"relapses\", \"non\", \"Brantsford\", \"Gio\", \"supernutrition\", \"vates\", \"parallelly\", \"modernised\", \"wood\", \"diplonts\", \"plantling\", \"mawing\", \"Beatrix\", \"tellurist\", \"tagraggery\", \"knee\", \"stand\", \"Archytas\", \"heterodoxal\", \"polycot\", \"imbauba\", \"captioned\", \"sluther\", \"manipular\", \"Athamantid\", \"piatti\", \"demoralized\", \"mitten\", \"amenta\", \"mesotrochous\", \"Eumolpus\", \"reddling\", \"self\", \"backboned\", \"reguaranty\", \"Thebes\", \"what\", \"dejunkerize\", \"scylliorhinoid\", \"bedwarf\", \"reared\", \"coadjustment\", \"hand\", \"sulphite\", \"doiled\", \"screeched\", \"pawnable\", \"Datura\", \"womanpower\", \"patriolatry\", \"offishness\", \"unvictorious\", \"supernumerousness\", \"vowelled\", \"outfaming\", \"cohabited\", \"galeass\", \"tempera\", \"Caresa\", \"Marinetti\", \"tebbad\", \"pumpernickel\", \"heptagynia\", \"bullsticker\", \"plumiped\", \"backrushes\", \"disinherited\", \"Lonzo\", \"internalized\", \"posthouse\", \"Sorex\", \"greit\", \"normalizing\", \"thunder\", \"preexamination\", \"fartherance\", \"cams\", \"reevoke\", \"arsenicize\", \"aquaplaner\", \"poundal\", \"harvester\", \"scenarioist\", \"homespun\", \"unquellable\", \"supervigorousness\", \"hircocerf\", \"strength\", \"world\", \"figuredly\", \"dale\", \"divulging\", \"fatheads\", \"metatitanate\", \"mandator\", \"kathismata\", \"Melonechinus\", \"Talyah\", \"fireclays\", \"sergeancies\", \"outbluffing\", \"head\", \"maltodextrin\", \"Siluro\", \"Nebo\", \"stock\", \"Dehwar\", \"broken\", \"kermis\", \"stenchful\", \"vomitos\", \"Lepidotus\", \"vicecomital\", \"unretentively\", \"Styrax\", \"green\", \"VM\", \"scar\", \"ultra\", \"olive\", \"decongestant\", \"unanachronistic\", \"pouff\", \"matricide\", \"colligate\", \"enterally\", \"maintainability\", \"markhor\", \"lacert\", \"Saverton\", \"epipubis\", \"incrustant\", \"argentarii\", \"undermimic\", \"Hyndman\", \"neuronophagia\", \"Printer\", \"hyperacuness\", \"scratchcat\", \"roominess\", \"Gwinn\", \"evzones\", \"fullom\", \"khedivial\", \"Opisthorchis\", \"maxilliform\", \"schusses\", \"Lanse\", \"twitty\", \"stonechat\", \"hyperflexibly\", \"Estancia\", \"pietisms\", \"rumicin\", \"semilimber\", \"nonresister\", \"menthenes\", \"superposed\", \"ramees\", \"MTSO\", \"Ceratopteris\", \"garvance\", \"insalubriousness\", \"squamipennate\", \"Stickney\", \"yodelled\", \"boldine\", \"nonexculpation\", \"cs.\", \"paromphalocele\", \"phototheodolite\", \"gobber\", \"honeysuckled\", \"reabandons\", \"gurgle\", \"dirges\", \"prereconciliation\", \"scribblement\", \"tetraptych\", \"tappable\", \"redisposition\", \"choko\", \"pedionomite\", \"haustorial\", \"nongraphicalness\", \"walksman\", \"non\", \"disapprovals\", \"ungripe\", \"bolters\", \"biscuiting\", \"morinel\", \"dietary\", \"adrogate\", \"lininess\", \"pseudozealous\", \"sheitlen\", \"re\", \"metaclase\", \"prepsychology\", \"scantiest\", \"deworms\", \"Sherj\", \"retroclusion\", \"Numbers\", \"force\", \"taar\", \"refrainments\", \"beshrouded\", \"sudoriparous\", \"stagmometer\", \"laloplegia\", \"veratrize\", \"antienzyme\", \"immy\", \"twinsets\", \"gwyniad\", \"durry\", \"dog\", \"evocatrix\", \"passports\", \"lenient\", \"respiting\", \"furzeling\", \"Judye\", \"primeur\", \"collodionization\", \"overdilate\", \"Palaquium\", \"Yakutsk\", \"fester\", \"facultatively\", \"disaccordance\", \"unpoetically\", \"septenarii\", \"backsaws\", \"dipterological\", \"lupins\", \"watercolourist\", \"vineyarding\", \"gumboots\", \"cosalite\", \"sash\", \"Pesach\", \"exareolate\", \"gramaries\", \"minirebellion\", \"Landisburg\", \"telecasters\", \"superbelievably\", \"amphetamine\", \"aurodiamine\", \"briefcase's\", \"beholds\", \"bastardisation\", \"coelector\", \"nucelli\", \"osteomanty\", \"Cally\", \"imperializing\", \"talentless\", \"unveering\", \"precensus\", \"antianopheline\", \"sereno\", \"accomplishes\", \"Yukon\", \"vasts\", \"achromotrichia\", \"completeness\", \"Cricetidae\", \"Jermain\", \"telia\", \"devocalised\", \"Aviemore\", \"tyrannizes\", \"bloodmonger\", \"Crispinian\", \"arteriographic\", \"civile\", \"bondwoman\", \"Barrios\", \"Pershing\", \"praetextae\", \"pectosase\", \"Camanche\", \"ring\", \"conspiratress\", \"ante\", \"hallucinogen\", \"pine\", \"spiny\", \"monkery\", \"snowbells\", \"Hailee\", \"uprightish\", \"helleborin\", \"dipsy\", \"interempire\", \"fore\", \"Mushro\", \"Quinton\", \"stylizers\", \"electroceramic\", \"tempestuously\", \"cinquecentism\", \"immaterialize\", \"vanquishable\", \"Danbury\", \"sigmoidoproctostomy\", \"Kasey\", \"phase\", \"turbidimetric\", \"osteolytic\", \"automate\", \"certainest\", \"discography\", \"prebiotic\", \"Trygve\", \"complexest\", \"inexpungible\", \"echafaudage\", \"untoggle\", \"prattlement\", \"romaines\", \"Kakan\", \"scyllitol\", \"pre\", \"overloudness\", \"ascend\", \"ingratitude\", \"odontorthosis\", \"gynandries\", \"guitar\", \"preclearances\", \"Ellerbe\", \"proconcession\", \"Letohatchee\", \"disinfeudation\", \"unlevelling\", \"powders\", \"over\", \"pistilogy\", \"brainge\", \"Thoas\", \"thawless\", \"galliards\", \"hypersexual\", \"overworship\", \"pulik\", \"drips\", \"ijithad\", \"journey\", \"lime\", \"Gordius\", \"imidazol\", \"vaticinated\", \"herniae\", \"indicible\", \"cheerled\", \"acreable\", \"crispins\", \"externalisation\", \"solfatara\", \"hotelward\", \"kabeljou\", \"Debussy\", \"appellatively\", \"promeristem\", \"nontolerable\", \"presswork\", \"reinflate\", \"Locarnist\", \"prespecialize\", \"Chancay\", \"hexametrize\", \"featheriest\", \"paruria\", \"detainers\", \"wealth\", \"Nasmyth\", \"Rosamond\", \"pugmarks\", \"preassurance\", \"bouchal\", \"Spigelia\", \"re\", \"flickeringly\", \"fossilification\", \"exonic\", \"Mix\", \"Janizary\", \"pairings\", \"ganjas\", \"sulfated\", \"antenodal\", \"uncanonise\", \"Calorite\", \"acculturates\", \"short\", \"multipronged\", \"chloasmata\", \"thyrotherapy\", \"nonreference\", \"placentigerous\"]\n",
        "word = random.choice(my_list)\n",
        "abc = len(word)\n",
        "word = str(word).lower()\n",
        "#print(word)\n",
        "#print(len(word))\n",
        "while abc != 0:\n",
        "    abc -= 1\n",
        "    my_input = input(f\"Введите букву под номером {n + 1}: \")\n",
        "    if word[n] == my_input.lower():\n",
        "        print(f\"Вы угадали букву под номером {n + 1}\")\n",
        "        score += 1\n",
        "        print(f\"Ваш счёт: {score}\")\n",
        "        n += 1\n",
        "        if score >= len(word) / 2:\n",
        "            a = input(\"Хотите ли вы ввести слово полностью? За это добавим + 10 очков) \").lower()\n",
        "            if a == 'да' or a == 'yes':\n",
        "                your_word = input(\"Твоё слово: \")\n",
        "                if your_word == word:\n",
        "                    print(f\"Поздравляю вы отгадали слово!\", f\"Твой счёт: {score + 10}\")\n",
        "                else:\n",
        "                    print(f\"Вы проиграли :)\", f\"Наше слово: {word}\", sep=\"\\n\")\n",
        "                    break\n",
        "        continue\n",
        "    else:\n",
        "        score -= 1\n",
        "        n += 1\n",
        "        print(f\"Вы не угадали букву под номером: {n}, кол-ов очков: {score}\")\n",
        "        attempt -= 1\n",
        "        print(f\"осталось попыток: {attempt}\")\n",
        "        if attempt == 0:\n",
        "            print(\"Вы проиграли :)\")\n",
        "            break\n",
        "        abc += 1\n",
        "        n -= 1\n"
      ],
      "metadata": {
        "id": "0N2zCYwVLiIw"
      },
      "execution_count": null,
      "outputs": []
    },
    {
      "cell_type": "markdown",
      "source": [
        "# **Дополнительно: Задача 6.**\n"
      ],
      "metadata": {
        "id": "w0x3QFGzKtDD"
      }
    },
    {
      "cell_type": "markdown",
      "source": [
        "\n",
        "**Цифра на определенном месте:**\n",
        "\n",
        "Последовательно записан натуральный ряд чисел.\n",
        "\n",
        "Какая цифра стоит в N позиции\n",
        "\n",
        "\n",
        "Вввод:\n",
        "\n",
        "```\n",
        "Введите номер позиции: 1234567890\n",
        "```\n",
        "\n",
        "Вывод:\n",
        "\n",
        "```\n",
        "8\n",
        "```"
      ],
      "metadata": {
        "id": "QqZArcpHJxVj"
      }
    },
    {
      "cell_type": "code",
      "source": [],
      "metadata": {
        "id": "LwjYwBGcKiJ9"
      },
      "execution_count": null,
      "outputs": []
    }
  ]
}