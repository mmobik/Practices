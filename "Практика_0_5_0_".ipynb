{
  "cells": [
    {
      "cell_type": "markdown",
      "metadata": {
        "id": "view-in-github",
        "colab_type": "text"
      },
      "source": [
        "<a href=\"https://colab.research.google.com/github/mmobik/Practices/blob/main/%22%D0%9F%D1%80%D0%B0%D0%BA%D1%82%D0%B8%D0%BA%D0%B0_0_5_0_%22.ipynb\" target=\"_parent\"><img src=\"https://colab.research.google.com/assets/colab-badge.svg\" alt=\"Open In Colab\"/></a>"
      ]
    },
    {
      "cell_type": "markdown",
      "metadata": {
        "id": "Bu5gIJfHNPHw"
      },
      "source": [
        "ФИО:"
      ]
    },
    {
      "cell_type": "code",
      "execution_count": null,
      "metadata": {
        "colab": {
          "base_uri": "https://localhost:8080/"
        },
        "id": "CbHI8c7cM9Eg",
        "outputId": "84a51471-b75c-482b-b9b9-0cfe5ac8ec7f"
      },
      "outputs": [
        {
          "name": "stdout",
          "output_type": "stream",
          "text": [
            "Ощепков Сергей Алексеевич\n"
          ]
        }
      ],
      "source": [
        "print(\"Ощепков Сергей Алексеевич\")"
      ]
    },
    {
      "cell_type": "markdown",
      "metadata": {
        "id": "VrNrBpmocGRd"
      },
      "source": [
        "# **Задание 1**"
      ]
    },
    {
      "cell_type": "markdown",
      "metadata": {
        "id": "XhV1bnm1bR2h"
      },
      "source": [
        "\n",
        "\n",
        "Дан словарь, содержащий имена и возраст людей, напишите программу выводящую возраст человека по имени\n",
        "\n",
        "Дано:\n",
        "\n",
        "```\n",
        "{\"Alice\": 25, \"Bob\": 30, \"Charlie\": 35}\n",
        "```\n",
        "\n",
        "Вввод:\n",
        "\n",
        "\n",
        "```\n",
        "Alice\n",
        "```\n",
        "\n",
        "Вывод:\n",
        "\n",
        "\n",
        "```\n",
        "Alice 25\n",
        "```\n"
      ]
    },
    {
      "cell_type": "code",
      "execution_count": null,
      "metadata": {
        "colab": {
          "base_uri": "https://localhost:8080/"
        },
        "id": "PElJj6DvsgjD",
        "outputId": "6a2b7d3b-50d9-4956-a0b6-6e03c316dbab"
      },
      "outputs": [
        {
          "name": "stdout",
          "output_type": "stream",
          "text": [
            "Введите имя пользователя: Alice\n",
            "Alice 25\n"
          ]
        }
      ],
      "source": [
        "dictionary = {\"Alice\": 25, \"Bob\": 30, \"Charlie\": 35}\n",
        "name = input(\"Введите имя пользователя: \")\n",
        "print(f\"{name} {dictionary[name]}\")"
      ]
    },
    {
      "cell_type": "markdown",
      "metadata": {
        "id": "lpjJz-_YcJ-t"
      },
      "source": [
        "# **Задание 2**\n"
      ]
    },
    {
      "cell_type": "markdown",
      "metadata": {
        "id": "tMEsAB4rUiWW"
      },
      "source": [
        "\n",
        "\n",
        "Дан список, состоящий из целых чисел, необходимо написать функцию считающую сумму всех положительных четных чисел списка\n",
        "\n",
        "Ввод:\n",
        "\n",
        "```\n",
        "1, 2, 3, 4, 5, 6, 7, 8, 9\n",
        "```\n",
        "\n",
        "Вывод:\n",
        "\n",
        "\n",
        "```\n",
        "20\n",
        "```\n",
        "\n",
        "***Запрещено:***\n",
        "\n",
        "*   Использование готовых функций для суммирования чисел\n"
      ]
    },
    {
      "cell_type": "code",
      "execution_count": null,
      "metadata": {
        "colab": {
          "base_uri": "https://localhost:8080/"
        },
        "id": "wDNUFLeqNQS_",
        "outputId": "84268696-94dd-4e9c-c7d1-65662022765a"
      },
      "outputs": [
        {
          "name": "stdout",
          "output_type": "stream",
          "text": [
            "Введите числа: 1, 2, 3, 4, 5, 6, 7, 8, 9\n",
            "20\n"
          ]
        }
      ],
      "source": [
        "x = input(\"Введите числа: \")\n",
        "y = \"\"\n",
        "for i in x:\n",
        "    if \",\" == i:\n",
        "        continue\n",
        "    else:\n",
        "        y += i\n",
        "y = y.split()\n",
        "\n",
        "\n",
        "def plus_numbers(numbers):\n",
        "    your_sum = 0\n",
        "    for el in numbers:\n",
        "        if int(el) > 0:\n",
        "            if int(el) % 2 == 0:\n",
        "                your_sum += int(el)\n",
        "            else:\n",
        "                continue\n",
        "        else:\n",
        "            continue\n",
        "    print(your_sum)\n",
        "\n",
        "plus_numbers(numbers=y)\n"
      ]
    },
    {
      "cell_type": "markdown",
      "metadata": {
        "id": "WT_v-vz1dUZJ"
      },
      "source": [
        "# **Задание 3**"
      ]
    },
    {
      "cell_type": "markdown",
      "metadata": {
        "id": "ZI5Xeh2DdXgF"
      },
      "source": [
        "Дан словарь, содержащий название фрукта и его цвет, выведите список всех желтых фруктов\n",
        "\n",
        "\n",
        "Дано:\n",
        "\n",
        "```\n",
        "fruits_and_colors = {\n",
        "    \"apple\": \"red\",\n",
        "    \"banana\": \"yellow\",\n",
        "    \"mango\": \"yellow\",\n",
        "    \"orange\": \"orange\",\n",
        "    \"lemon\": \"yellow\",\n",
        "    \"grape\": \"purple\"\n",
        "}\n",
        "```\n",
        "\n",
        "Вывод:\n",
        "\n",
        "\n",
        "```\n",
        "Yellow fruits:\n",
        "banana\n",
        "lemon\n",
        "mango\n",
        "```\n",
        "\n"
      ]
    },
    {
      "cell_type": "code",
      "execution_count": null,
      "metadata": {
        "colab": {
          "base_uri": "https://localhost:8080/"
        },
        "id": "aNzFTkhKdkTG",
        "outputId": "7fcd5474-c836-4483-8262-07c4f2dfa9bc"
      },
      "outputs": [
        {
          "name": "stdout",
          "output_type": "stream",
          "text": [
            "Yellow fruits:\n",
            "banana\n",
            "mango\n",
            "lemon\n"
          ]
        }
      ],
      "source": [
        "fruits_and_colors = {\n",
        "    \"apple\": \"red\",\n",
        "    \"banana\": \"yellow\",\n",
        "    \"mango\": \"yellow\",\n",
        "    \"orange\": \"orange\",\n",
        "    \"lemon\": \"yellow\",\n",
        "    \"grape\": \"purple\"\n",
        "}\n",
        "print(\"Yellow fruits:\")\n",
        "for k, v in fruits_and_colors.items():\n",
        "    if v == \"yellow\":\n",
        "        print(k)\n",
        "    else:\n",
        "        continue\n"
      ]
    },
    {
      "cell_type": "markdown",
      "metadata": {
        "id": "iHtMGt2icM7w"
      },
      "source": [
        "# **Задание 4**\n"
      ]
    },
    {
      "cell_type": "markdown",
      "metadata": {
        "id": "rS3THsnBQ_EB"
      },
      "source": [
        "\n",
        "\n",
        "Дан словарь, необходимо написать функцию меняющую ключ и значение местами\n",
        "\n",
        "Дано:\n",
        "\n",
        "\n",
        "```\n",
        "{\"a\": 1, \"b\": 2, \"c\": 3}\n",
        "```\n",
        "\n",
        "Вывод:\n",
        "\n",
        "```\n",
        "{1: 'a', 2: 'b', 3: 'c'}\n",
        "```\n",
        "\n"
      ]
    },
    {
      "cell_type": "code",
      "execution_count": null,
      "metadata": {
        "colab": {
          "base_uri": "https://localhost:8080/"
        },
        "id": "MNRusyLDcQ59",
        "outputId": "61c0f130-7143-45d8-bbbb-b0b316dea638"
      },
      "outputs": [
        {
          "name": "stdout",
          "output_type": "stream",
          "text": [
            "{1: 'a', 2: 'b', 3: 'c'}\n"
          ]
        }
      ],
      "source": [
        "def my_trans():\n",
        "    my_dict = {\"a\": 1, \"b\": 2, \"c\": 3}\n",
        "    new_dict = {}\n",
        "    for k, v in my_dict.items():\n",
        "        new_k = v\n",
        "        new_v = k\n",
        "        new_dict[new_k] = new_v\n",
        "    print(new_dict)\n",
        "\n",
        "\n",
        "my_trans()\n"
      ]
    },
    {
      "cell_type": "markdown",
      "metadata": {
        "id": "x6ff5nd0cUxD"
      },
      "source": [
        "# **Задание 5**"
      ]
    },
    {
      "cell_type": "markdown",
      "metadata": {
        "id": "ypQNHOG4NQz3"
      },
      "source": [
        "Дан список слов, неограниченной длинны, сформируйте словарь, где в качестве ключа будет слово, а в качестве значения количество слов\n",
        "\n",
        "**Критерии**\n",
        "\n",
        "\n",
        "*   Словарь необходимо отсортировать по убыванию количества элементов в списке.\n",
        "*   Подсчет элементов должен быть реализован в отдельной функции\n",
        "*   Сортировка пары `ключ:значение` должна быть реализована также в виде отдельной функции\n",
        "\n",
        "\n",
        "\n",
        "\n",
        "Дано:\n",
        "```\n",
        "['apple','banana','orange','apple','apple','banana']\n",
        "```\n",
        "\n",
        "\n",
        "Вывод:\n",
        "```\n",
        "{'apple':3, 'banana': 2, 'orange': 1}\n",
        "```\n",
        "\n",
        "***Запрещено:***\n",
        "\n",
        "*   Использование готовых функций для сортировки\n",
        "*   Использование готовых функций для подсчета элементов\n",
        "\n"
      ]
    },
    {
      "cell_type": "code",
      "execution_count": null,
      "metadata": {
        "colab": {
          "base_uri": "https://localhost:8080/"
        },
        "id": "J10PjdVQUbyq",
        "outputId": "acc76d91-28f6-49e1-8aa2-b971283ce104"
      },
      "outputs": [
        {
          "name": "stdout",
          "output_type": "stream",
          "text": [
            "Введите спсиок: яблоко банан апельсин яблоко яблоко банан\n",
            "{'яблоко': 3, 'банан': 2, 'апельсин': 1}\n"
          ]
        }
      ],
      "source": [
        "my_words_list = input(\"Введите спсиок: \").split()\n",
        "my_words_dict = {}\n",
        "new_my_words_dict = {}\n",
        "\n",
        "\n",
        "def sorting_pairs():\n",
        "    for i in my_words_list:\n",
        "        if i not in my_words_dict:\n",
        "            my_words_dict[i] = 1\n",
        "        else:\n",
        "            my_words_dict[i] += 1\n",
        "\n",
        "\n",
        "sorting_pairs()\n",
        "\n",
        "\n",
        "def counting_el():\n",
        "    n = 0\n",
        "    for k, v in my_words_dict.items():\n",
        "        while n < v:\n",
        "            n += 1\n",
        "    for k, v in my_words_dict.items():\n",
        "        if v == n:\n",
        "            new_my_words_dict[k] = n\n",
        "            del my_words_dict[k]\n",
        "            break\n",
        "    if my_words_dict != {}:\n",
        "        counting_el()\n",
        "\n",
        "\n",
        "counting_el()\n",
        "print(new_my_words_dict)\n"
      ]
    },
    {
      "cell_type": "markdown",
      "metadata": {
        "id": "d7fDUr2WcY_G"
      },
      "source": [
        "# **Задание 6**"
      ]
    },
    {
      "cell_type": "markdown",
      "metadata": {
        "id": "m11qdVhSWBi7"
      },
      "source": [
        "Дан словарь, содержащий информацию о людях, необходимо:\n",
        "\n",
        "\n",
        "\n",
        "*   Вывести всех людей старше 30 лет\n",
        "*   Вывести список городов и количество людей из словаря проживающих в них\n",
        "*   Вывести список профессий и список людей для каждой профессии\n",
        "\n",
        "**Критерии**\n",
        "\n",
        "Каждый из пунктов необходимо реализовать в виде функции\n",
        "\n"
      ]
    },
    {
      "cell_type": "code",
      "execution_count": null,
      "metadata": {
        "colab": {
          "base_uri": "https://localhost:8080/"
        },
        "id": "lSNtB39OWtFl",
        "outputId": "a6d1031f-38e0-453a-cdc5-0ca3efca02c1"
      },
      "outputs": [
        {
          "name": "stdout",
          "output_type": "stream",
          "text": [
            "Желаете ли вы вывести всех людей старше 30 лет? да\n",
            "Charlie: 35\n",
            "Ethan: 40\n",
            "Frank: 32\n",
            "Harrison: 38\n",
            "Julian: 42\n",
            "Kate: 31\n",
            "Lucas: 36\n",
            "Natalie: 39\n",
            "Oliver: 44\n",
            "Penelope: 33\n",
            "Quincy: 41\n",
            "Rachel: 34\n",
            "Tessa: 37\n"
          ]
        }
      ],
      "source": [
        "people_info = {\n",
        "    \"Alice\": {\"age\": 25, \"city\": \"New York\", \"occupation\": \"Engineer\"},\n",
        "    \"Bob\": {\"age\": 30, \"city\": \"Los Angeles\", \"occupation\": \"Designer\"},\n",
        "    \"Charlie\": {\"age\": 35, \"city\": \"Chicago\", \"occupation\": \"Teacher\"},\n",
        "    \"Diana\": {\"age\": 28, \"city\": \"Miami\", \"occupation\": \"Doctor\"},\n",
        "    \"Ethan\": {\"age\": 40, \"city\": \"Seattle\", \"occupation\": \"Chef\"},\n",
        "    \"Frank\": {\"age\": 32, \"city\": \"Atlanta\", \"occupation\": \"Lawyer\"},\n",
        "    \"Gabriella\": {\"age\": 29, \"city\": \"San Francisco\", \"occupation\": \"Software Engineer\"},\n",
        "    \"Harrison\": {\"age\": 38, \"city\": \"Denver\", \"occupation\": \"Architect\"},\n",
        "    \"Isabella\": {\"age\": 26, \"city\": \"Washington D.C.\", \"occupation\": \"Journalist\"},\n",
        "    \"Julian\": {\"age\": 42, \"city\": \"Miami\", \"occupation\": \"Musician\"},\n",
        "    \"Kate\": {\"age\": 31, \"city\": \"Philadelphia\", \"occupation\": \"Nurse\"},\n",
        "    \"Lucas\": {\"age\": 36, \"city\": \"Nashville\", \"occupation\": \"Businessman\"},\n",
        "    \"Mia\": {\"age\": 27, \"city\": \"Atlanta\", \"occupation\": \"Artist\"},\n",
        "    \"Natalie\": {\"age\": 39, \"city\": \"Portland\", \"occupation\": \"Writer\"},\n",
        "    \"Oliver\": {\"age\": 44, \"city\": \"Minneapolis\", \"occupation\": \"Professor\"},\n",
        "    \"Penelope\": {\"age\": 33, \"city\": \"San Diego\", \"occupation\": \"Marketing Manager\"},\n",
        "    \"Quincy\": {\"age\": 41, \"city\": \"Nashville\", \"occupation\": \"Singer\"},\n",
        "    \"Rachel\": {\"age\": 34, \"city\": \"Cleveland\", \"occupation\": \"Teacher\"},\n",
        "    \"Sophia\": {\"age\": 29, \"city\": \"Nashville\", \"occupation\": \"Engineer\"},\n",
        "    \"Tessa\": {\"age\": 37, \"city\": \"Miami\", \"occupation\": \"Lawyer\"}\n",
        "}\n",
        "\n",
        "\n",
        "def start():\n",
        "    require = input(\"Желаете ли вы вывести всех людей старше 30 лет? \").lower()\n",
        "    if require == \"да\" or require == \"yeah\" or require == \"yes\":\n",
        "        people_age()\n",
        "    elif require == \"нет\" or require == \"no\":\n",
        "        require = input(\"Желаете ли вы вывести список городов и количество людей проживающих в них? \").lower()\n",
        "        if require == \"да\" or require == \"yeah\" or require == \"yes\":\n",
        "            towns()\n",
        "        elif require == \"нет\" or require == \"no\":\n",
        "            require = input(\"Желаете ли вы вывести список профессий и список людей для каждой профессии? \").lower()\n",
        "            if require == \"да\" or require == \"yeah\" or require == \"yes\":\n",
        "                profession()\n",
        "            else:\n",
        "                exit(0)\n",
        "\n",
        "\n",
        "def people_age():\n",
        "    people_age_1 = {}\n",
        "    for k, v in people_info.items():\n",
        "        if v[\"age\"] > 30:\n",
        "            people_age_1[k] = v[\"age\"]\n",
        "        else:\n",
        "            continue\n",
        "    for k, v in people_age_1.items():\n",
        "        print(f\"{k}: {v}\")\n",
        "\n",
        "\n",
        "def towns():\n",
        "    towns_1 = {}\n",
        "    for k, v in people_info.items():\n",
        "        if v[\"city\"] not in towns_1:\n",
        "            towns_1[v[\"city\"]] = 1\n",
        "        else:\n",
        "            towns_1[v[\"city\"]] += 1\n",
        "    for k, v in towns_1.items():\n",
        "        print(f\"{k}: {v}\")\n",
        "\n",
        "\n",
        "def profession():\n",
        "    profession_1 = {}\n",
        "    for k, v in people_info.items():\n",
        "        if v[\"occupation\"] not in profession_1:\n",
        "            profession_1[v[\"occupation\"]] = k\n",
        "        else:\n",
        "            profession_1[v[\"occupation\"]] += f\",{k}\"\n",
        "    for k, v in profession_1.items():\n",
        "        print(f\"{k}: {v}\")\n",
        "\n",
        "\n",
        "start()\n"
      ]
    },
    {
      "cell_type": "code",
      "execution_count": null,
      "metadata": {
        "id": "qcLO5eQwXkNK"
      },
      "outputs": [],
      "source": []
    },
    {
      "cell_type": "markdown",
      "metadata": {
        "id": "27IuB2YScezw"
      },
      "source": [
        "# **Задание 7**"
      ]
    },
    {
      "cell_type": "markdown",
      "metadata": {
        "id": "Fd95-S9cYhct"
      },
      "source": [
        "Задание: Разработка системы отзывов о предметах\n",
        "\n",
        "Описание: Создать программу на Python для хранения и управления отзывами о предметах учебного курса. Программа должна позволять пользователям добавлять, просматривать и удалять отзывы, а также вычислять средний балл по заданному предмету.\n",
        "\n",
        "**Функционал:**\n",
        "\n",
        "*   Добавление отзыва и оценки:\n",
        "   *   Пользователь может ввести название предмета, оценку (от 1 до 5) и текст отзыва.\n",
        "   *   Отзывы должны храниться в структуре данных (например, словаре), где ключом будет название предмета, а значением - список отзывов (каждый отзыв может хранить оценку и комментарий).\n",
        "*   Просмотр отзывов и оценок:\n",
        "   *   Пользователь может запросить отзывы для указанного предмета.\n",
        "   *   Если для указанного предмета есть отзывы, программа должна отобразить список всех отзывов и соответствующих оценок.\n",
        "*   Удаление отзыва:\n",
        "   *   Пользователь может удалить отзыв по индексу. Необходимо заранее уведомить пользователя о том, какие отзывы доступны для удаления.\n",
        "   *   Программа должна обработать ситуацию, когда индекс введен неправильно.\n",
        "*   Вычисление среднего балла по предмету:\n",
        "   *   Пользователь может ввести название предмета, и программа должна вычислить и вывести средний балл по всем отзывам для этого предмета.\n",
        "   *   Если отзывов нет, программа должна сообщить об этом.\n",
        "\n",
        "\n",
        "**Критерии:**\n",
        "\n",
        "*   Код должен быть оформлен в виде функций\n",
        "*   Необходимо обрабатывать неправильный ввод пользователя\n",
        "*   Должны быть комментарии к функциям\n",
        "*   Присутсвует весь дополнительный функционал\n",
        "\n",
        "\n",
        "\n",
        "**Опционально:**\n",
        "\n",
        "Предлагаю вам добавить свои критерии оценки или вопросы, на которые должен ответить студент, чтобы оценить пару\n",
        "\n",
        "\n"
      ]
    },
    {
      "cell_type": "code",
      "execution_count": null,
      "metadata": {
        "colab": {
          "background_save": true,
          "base_uri": "https://localhost:8080/"
        },
        "id": "kzucJrCUa0o7",
        "outputId": "f56628e7-2d70-4b6d-e198-7bdb0d059369"
      },
      "outputs": [
        {
          "name": "stdout",
          "output_type": "stream",
          "text": [
            "Добро пожаловать в программу <Отзывы урфу>\n",
            "\n",
            "Чтобы добавить отзыв нужно:\n",
            "1.Выбрать предмет\n",
            "2.Добавить оценку\n",
            "3.Написать комент\n",
            "\n",
            "Отзыв добавлен\n",
            "\n",
            "\n",
            "Выберете действие:\n",
            "1. Просмотреть отзывы на предмет\n",
            "2. Удалить отзыв\n",
            "3. Узнать средний балл по предмету\n",
            "4. Добавить новый отзыв\n",
            "5. Выйти\n",
            "\n",
            "Отзыв добавлен\n",
            "\n",
            "\n",
            "Выберете действие:\n",
            "1. Просмотреть отзывы на предмет\n",
            "2. Удалить отзыв\n",
            "3. Узнать средний балл по предмету\n",
            "4. Добавить новый отзыв\n",
            "5. Выйти\n",
            "\n",
            "Отзывы для предмета 'физика': [{'оценка': 5, 'комментарий': 'топ'}, {'оценка': 2, 'комментарий': 'имба'}]\n",
            "\n",
            "\n",
            "Выберете действие:\n",
            "1. Просмотреть отзывы на предмет\n",
            "2. Удалить отзыв\n",
            "3. Узнать средний балл по предмету\n",
            "4. Добавить новый отзыв\n",
            "5. Выйти\n",
            "\n"
          ]
        }
      ],
      "source": [
        "database = {}  # Словарь где мы храним отзывы\n",
        "\n",
        "print('Добро пожаловать в программу <Отзывы урфу>\\n')\n",
        "print(\"Чтобы добавить отзыв нужно:\", \"1.Выбрать предмет\", \"2.Добавить оценку\", \"3.Написать комент\", \"\", sep=\"\\n\")\n",
        "\n",
        "\n",
        "def subject():  # Функция для выбора предметов из списка academic_subjects\n",
        "    academic_subjects = [\"математика\", \"физика\", \"английский язык\", \"история\", \"программирование\", \"проект\", \"физра\"]\n",
        "    request_1 = input(f\"Выберете предмет из предложенных {academic_subjects}: \").lower()\n",
        "    if request_1 in academic_subjects:\n",
        "        return request_1  # Возвращаем значение request_1, чтобы в дальнейшем использовать\n",
        "    else:\n",
        "        print(\"Предмет не найден. Завершение программы.\")\n",
        "        exit(0)  # Завершаем программу если предмета нет\n",
        "\n",
        "\n",
        "def mark():  # Функция создаёт и возвращает оценку и создает ограничения от 1 до 5\n",
        "    request_2 = int(input(\"Введите оценку от 1 до 5: \"))\n",
        "    if request_2 > 5:\n",
        "        request_2 = 5\n",
        "    elif request_2 < 1:\n",
        "        request_2 = 1\n",
        "    return request_2  # Также возвращаем значение\n",
        "\n",
        "\n",
        "def comment():  # Функция создаёт и возвращает комментарий\n",
        "    request_3 = input(\"Введите свой комментарий: \")\n",
        "    return request_3\n",
        "\n",
        "\n",
        "def review(request_1, request_2, request_3):  # Принимаем в качестве параметров значения request_1, request_2, request_3\n",
        "    # Функция добавляет отзыв в словарь database\n",
        "    database_review = {\"оценка\": request_2, \"комментарий\": request_3}  # Создаём переменную, хранящую отзыв\n",
        "    if request_1 in database:\n",
        "        database[request_1].append(database_review)  # Добавляем к предмету отзыв, если он есть в словаре\n",
        "    else:\n",
        "        database[request_1] = [database_review]  # Добавляем и предмет и отзыв\n",
        "        # Для значения ключа словаря database воспользуемся списком и вложенным в него словарем, чтобы добавлять отзывы\n",
        "    print(\"Отзыв добавлен\\n\")\n",
        "\n",
        "\n",
        "def check_review():  # Функция проверяет отзывы\n",
        "    request = input(\"Выберете предмет: \").lower()\n",
        "    if request in database:\n",
        "        print(f\"Отзывы для предмета '{request}': {database[request]}\\n\")\n",
        "    else:\n",
        "        print(\"На данный предмет оценок нет! \")\n",
        "        return\n",
        "\n",
        "\n",
        "def middle_mark(request):  # Функция находит средний балл по предмету\n",
        "    if request in database:\n",
        "        total_marks = 0  # Переменная хранящая сумму чисел\n",
        "        count = len(database[request])  # Переменная хранящая количество чисел\n",
        "        for revie in database[request]:  # цикл для распаковки отзывов\n",
        "            total_marks += revie[\"оценка\"]  # Находит значение ключа \"оценка\" и находит сумму чисел\n",
        "        middle = total_marks / count\n",
        "        print(f\"Средний балл для предмета '{request}': {middle:.2f}\")  # middle:.2f данный метод помогает округлить знч\n",
        "    else:\n",
        "        print(\"На данный предмет оценок нет!\")\n",
        "\n",
        "\n",
        "def delete_review():  # Функция удаляет отзывы\n",
        "    print(\"Внимание отзыв можно удалить, если в нём есть мат и он принадлежит вам!\")\n",
        "\n",
        "    request_1 = input(\"Введите предмет: \").lower()\n",
        "    if request_1 not in database:  # Проверка на наличие предмета в database\n",
        "        print(\"Такого предмета нет в базе данных.\")\n",
        "        return\n",
        "    for index, revie in enumerate(database[request_1]):  # enumerate поможет нам получить и индекс и значение элемента\n",
        "        print(f\"{index}: Оценка: {revie['оценка']}, Комментарий: {revie['комментарий']}\")\n",
        "    request_2 = int(input(\"Введите индекс отзыва для удаления: \"))\n",
        "    if request_2 < 0 or request_2 > len(database[request_1]) - 1:  # Проверка на неправильно введённый индекс\n",
        "        print(\"Такого индекса нет для данного предмета\")\n",
        "    else:\n",
        "        del database[request_1][request_2]  # Удаляем из словаря отзыв по индексу\n",
        "        if not database[request_1]:\n",
        "            del database[request_1]  # Если индекс один то удаляем предмет\n",
        "        print(\"Отзыв удален!\\n\")\n",
        "\n",
        "\n",
        "def start():  # Главаня функция, вызывающая все остальные\n",
        "    while True:\n",
        "        request_11 = subject()\n",
        "        request_22 = mark()\n",
        "        request_33 = comment()\n",
        "        review(request_11, request_22, request_33)\n",
        "        # Цикл для добавления отзывов\n",
        "        while True:\n",
        "            request = input(\"Хотите ли вы продолжить? да/нет \").lower()\n",
        "            if request == \"да\":\n",
        "                break\n",
        "            # Вспомогательный цикл\n",
        "            elif request == \"нет\":\n",
        "                break\n",
        "            else:\n",
        "                print(\"Выберете либо да, либо нет!\")\n",
        "        if request == \"нет\":\n",
        "            print(\"Спасибо за использование программы!\")\n",
        "            break\n",
        "            # Завершаем главный цикл, если пользователь введет нет\n",
        "        while True:\n",
        "            print(\"\\nВыберете действие:\")\n",
        "            print(\"1. Просмотреть отзывы на предмет\")\n",
        "            print(\"2. Удалить отзыв\")\n",
        "            print(\"3. Узнать средний балл по предмету\")\n",
        "            print(\"4. Добавить новый отзыв\")\n",
        "            print(\"5. Выйти\\n\")\n",
        "            request = int(input(\"Введите номер действия: \"))\n",
        "            if request == 1:\n",
        "                check_review()\n",
        "            elif request == 2:\n",
        "                delete_review()\n",
        "            elif request == 3:\n",
        "                request = input(\"Введите предмет для подсчёта среднего балла: \").lower()\n",
        "                middle_mark(request)\n",
        "            elif request == 4:\n",
        "                break\n",
        "            elif request == 5:\n",
        "                exit(0)\n",
        "                # exit(0) позволяет выйти из программы моментально\n",
        "            else:\n",
        "                print(\"Некорректный ввод, повторите свой запрос!\")\n",
        "            # Цикл для выбора доп опций\n",
        "# Функция будет работать пока пользователь не выберет 5 или нет.\n",
        "\n",
        "\n",
        "start()\n"
      ]
    }
  ],
  "metadata": {
    "colab": {
      "provenance": [],
      "include_colab_link": true
    },
    "kernelspec": {
      "display_name": "Python 3",
      "name": "python3"
    },
    "language_info": {
      "name": "python"
    }
  },
  "nbformat": 4,
  "nbformat_minor": 0
}